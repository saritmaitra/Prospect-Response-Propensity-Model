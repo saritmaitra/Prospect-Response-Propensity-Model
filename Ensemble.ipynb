{
  "nbformat": 4,
  "nbformat_minor": 0,
  "metadata": {
    "colab": {
      "name": "Ensemble.ipynb",
      "version": "0.3.2",
      "provenance": [],
      "collapsed_sections": [],
      "include_colab_link": true
    },
    "kernelspec": {
      "name": "python3",
      "display_name": "Python 3"
    },
    "accelerator": "GPU"
  },
  "cells": [
    {
      "cell_type": "markdown",
      "metadata": {
        "id": "view-in-github",
        "colab_type": "text"
      },
      "source": [
        "<a href=\"https://colab.research.google.com/github/saritmaitra/Prospect-Response-Propensity-Model/blob/master/Ensemble.ipynb\" target=\"_parent\"><img src=\"https://colab.research.google.com/assets/colab-badge.svg\" alt=\"Open In Colab\"/></a>"
      ]
    },
    {
      "cell_type": "markdown",
      "metadata": {
        "id": "l6tW0ddXISTR",
        "colab_type": "text"
      },
      "source": [
        "# Data Set Information:\n",
        "The data is related with direct marketing campaigns of a Portuguese banking institution. The marketing campaigns were based on phone calls. Often, more than one contact to the same client was required, in order to access if the product (bank term deposit) would be ('yes') or not ('no') subscribed.\n",
        "\n",
        "The classification goal is to predict if the client will subscribe (yes/no) a term deposit (variable y)."
      ]
    },
    {
      "cell_type": "code",
      "metadata": {
        "id": "pwhINFi_DD_S",
        "colab_type": "code",
        "colab": {}
      },
      "source": [
        "import pandas as pd\n",
        "import numpy as np\n",
        "import matplotlib.pyplot as plt \n",
        "%matplotlib inline\n",
        "from matplotlib.pylab import rcParams\n",
        "rcParams['figure.figsize']=10,6"
      ],
      "execution_count": 0,
      "outputs": []
    },
    {
      "cell_type": "code",
      "metadata": {
        "id": "lzFum7sCDxtF",
        "colab_type": "code",
        "outputId": "d74108a4-62f5-421d-e250-65a1ec65b425",
        "colab": {
          "resources": {
            "http://localhost:8080/nbextensions/google.colab/files.js": {
              "data": "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",
              "ok": true,
              "headers": [
                [
                  "content-type",
                  "application/javascript"
                ]
              ],
              "status": 200,
              "status_text": ""
            }
          },
          "base_uri": "https://localhost:8080/",
          "height": 74
        }
      },
      "source": [
        "from google.colab import files\n",
        "uploaded = files.upload()"
      ],
      "execution_count": 3,
      "outputs": [
        {
          "output_type": "display_data",
          "data": {
            "text/html": [
              "\n",
              "     <input type=\"file\" id=\"files-aa3443f7-aa72-4053-a743-6b57cf9131d0\" name=\"files[]\" multiple disabled />\n",
              "     <output id=\"result-aa3443f7-aa72-4053-a743-6b57cf9131d0\">\n",
              "      Upload widget is only available when the cell has been executed in the\n",
              "      current browser session. Please rerun this cell to enable.\n",
              "      </output>\n",
              "      <script src=\"/nbextensions/google.colab/files.js\"></script> "
            ],
            "text/plain": [
              "<IPython.core.display.HTML object>"
            ]
          },
          "metadata": {
            "tags": []
          }
        },
        {
          "output_type": "stream",
          "text": [
            "Saving propensity data.csv to propensity data.csv\n"
          ],
          "name": "stdout"
        }
      ]
    },
    {
      "cell_type": "code",
      "metadata": {
        "id": "tp1dloYyER1j",
        "colab_type": "code",
        "outputId": "f17cf1d3-8c6b-4f82-e3ae-2c1b80840ba5",
        "colab": {
          "base_uri": "https://localhost:8080/",
          "height": 215
        }
      },
      "source": [
        "df = pd.read_csv('propensity data.csv')\n",
        "df.sample(5)"
      ],
      "execution_count": 55,
      "outputs": [
        {
          "output_type": "execute_result",
          "data": {
            "text/html": [
              "<div>\n",
              "<style scoped>\n",
              "    .dataframe tbody tr th:only-of-type {\n",
              "        vertical-align: middle;\n",
              "    }\n",
              "\n",
              "    .dataframe tbody tr th {\n",
              "        vertical-align: top;\n",
              "    }\n",
              "\n",
              "    .dataframe thead th {\n",
              "        text-align: right;\n",
              "    }\n",
              "</style>\n",
              "<table border=\"1\" class=\"dataframe\">\n",
              "  <thead>\n",
              "    <tr style=\"text-align: right;\">\n",
              "      <th></th>\n",
              "      <th>age</th>\n",
              "      <th>job</th>\n",
              "      <th>marital</th>\n",
              "      <th>education</th>\n",
              "      <th>default</th>\n",
              "      <th>housing</th>\n",
              "      <th>loan</th>\n",
              "      <th>contact</th>\n",
              "      <th>month</th>\n",
              "      <th>day_of_week</th>\n",
              "      <th>duration</th>\n",
              "      <th>campaign</th>\n",
              "      <th>pdays</th>\n",
              "      <th>previous</th>\n",
              "      <th>poutcome</th>\n",
              "      <th>emp.var.rate</th>\n",
              "      <th>cons.price.idx</th>\n",
              "      <th>cons.conf.idx</th>\n",
              "      <th>euribor3m</th>\n",
              "      <th>nr.employed</th>\n",
              "      <th>y</th>\n",
              "    </tr>\n",
              "  </thead>\n",
              "  <tbody>\n",
              "    <tr>\n",
              "      <th>35896</th>\n",
              "      <td>37</td>\n",
              "      <td>housemaid</td>\n",
              "      <td>single</td>\n",
              "      <td>university.degree</td>\n",
              "      <td>no</td>\n",
              "      <td>no</td>\n",
              "      <td>no</td>\n",
              "      <td>cellular</td>\n",
              "      <td>may</td>\n",
              "      <td>fri</td>\n",
              "      <td>288</td>\n",
              "      <td>2</td>\n",
              "      <td>999</td>\n",
              "      <td>0</td>\n",
              "      <td>nonexistent</td>\n",
              "      <td>-1.8</td>\n",
              "      <td>92.893</td>\n",
              "      <td>-46.2</td>\n",
              "      <td>1.259</td>\n",
              "      <td>5099.1</td>\n",
              "      <td>yes</td>\n",
              "    </tr>\n",
              "    <tr>\n",
              "      <th>13131</th>\n",
              "      <td>31</td>\n",
              "      <td>services</td>\n",
              "      <td>married</td>\n",
              "      <td>basic.9y</td>\n",
              "      <td>no</td>\n",
              "      <td>yes</td>\n",
              "      <td>no</td>\n",
              "      <td>cellular</td>\n",
              "      <td>jul</td>\n",
              "      <td>wed</td>\n",
              "      <td>537</td>\n",
              "      <td>1</td>\n",
              "      <td>999</td>\n",
              "      <td>0</td>\n",
              "      <td>nonexistent</td>\n",
              "      <td>1.4</td>\n",
              "      <td>93.918</td>\n",
              "      <td>-42.7</td>\n",
              "      <td>4.962</td>\n",
              "      <td>5228.1</td>\n",
              "      <td>yes</td>\n",
              "    </tr>\n",
              "    <tr>\n",
              "      <th>2563</th>\n",
              "      <td>36</td>\n",
              "      <td>blue-collar</td>\n",
              "      <td>divorced</td>\n",
              "      <td>high.school</td>\n",
              "      <td>no</td>\n",
              "      <td>no</td>\n",
              "      <td>no</td>\n",
              "      <td>telephone</td>\n",
              "      <td>may</td>\n",
              "      <td>tue</td>\n",
              "      <td>531</td>\n",
              "      <td>2</td>\n",
              "      <td>999</td>\n",
              "      <td>0</td>\n",
              "      <td>nonexistent</td>\n",
              "      <td>1.1</td>\n",
              "      <td>93.994</td>\n",
              "      <td>-36.4</td>\n",
              "      <td>4.856</td>\n",
              "      <td>5191.0</td>\n",
              "      <td>no</td>\n",
              "    </tr>\n",
              "    <tr>\n",
              "      <th>15144</th>\n",
              "      <td>32</td>\n",
              "      <td>admin.</td>\n",
              "      <td>single</td>\n",
              "      <td>university.degree</td>\n",
              "      <td>no</td>\n",
              "      <td>no</td>\n",
              "      <td>no</td>\n",
              "      <td>cellular</td>\n",
              "      <td>jul</td>\n",
              "      <td>thu</td>\n",
              "      <td>79</td>\n",
              "      <td>1</td>\n",
              "      <td>999</td>\n",
              "      <td>0</td>\n",
              "      <td>nonexistent</td>\n",
              "      <td>1.4</td>\n",
              "      <td>93.918</td>\n",
              "      <td>-42.7</td>\n",
              "      <td>4.958</td>\n",
              "      <td>5228.1</td>\n",
              "      <td>no</td>\n",
              "    </tr>\n",
              "    <tr>\n",
              "      <th>2254</th>\n",
              "      <td>29</td>\n",
              "      <td>management</td>\n",
              "      <td>married</td>\n",
              "      <td>university.degree</td>\n",
              "      <td>no</td>\n",
              "      <td>no</td>\n",
              "      <td>no</td>\n",
              "      <td>telephone</td>\n",
              "      <td>may</td>\n",
              "      <td>tue</td>\n",
              "      <td>134</td>\n",
              "      <td>2</td>\n",
              "      <td>999</td>\n",
              "      <td>0</td>\n",
              "      <td>nonexistent</td>\n",
              "      <td>1.1</td>\n",
              "      <td>93.994</td>\n",
              "      <td>-36.4</td>\n",
              "      <td>4.856</td>\n",
              "      <td>5191.0</td>\n",
              "      <td>no</td>\n",
              "    </tr>\n",
              "  </tbody>\n",
              "</table>\n",
              "</div>"
            ],
            "text/plain": [
              "       age          job   marital  ... euribor3m nr.employed    y\n",
              "35896   37    housemaid    single  ...     1.259      5099.1  yes\n",
              "13131   31     services   married  ...     4.962      5228.1  yes\n",
              "2563    36  blue-collar  divorced  ...     4.856      5191.0   no\n",
              "15144   32       admin.    single  ...     4.958      5228.1   no\n",
              "2254    29   management   married  ...     4.856      5191.0   no\n",
              "\n",
              "[5 rows x 21 columns]"
            ]
          },
          "metadata": {
            "tags": []
          },
          "execution_count": 55
        }
      ]
    },
    {
      "cell_type": "code",
      "metadata": {
        "id": "X-wJLICJVVjo",
        "colab_type": "code",
        "outputId": "36f49ca9-3719-4d7d-8d3e-c8c8194c1e60",
        "colab": {
          "base_uri": "https://localhost:8080/",
          "height": 34
        }
      },
      "source": [
        "df.shape"
      ],
      "execution_count": 5,
      "outputs": [
        {
          "output_type": "execute_result",
          "data": {
            "text/plain": [
              "(41188, 21)"
            ]
          },
          "metadata": {
            "tags": []
          },
          "execution_count": 5
        }
      ]
    },
    {
      "cell_type": "markdown",
      "metadata": {
        "id": "VQuWbvq02nQH",
        "colab_type": "text"
      },
      "source": [
        "### Variables with unknown values are : \n",
        "- 'education', 'job', 'housing', 'loan', 'deafult', and 'marital'. \n",
        "- 'education (1731)', 'job (330)', 'housing (990)', and 'loan (990)'' are significant. \n",
        "- unknown for 'marital (80)' is very low. \n",
        "- The unknown for 'default' variable are considered to be recorded as unknown. It may be possible that customer is not willing to disclose this information to the banking representative. Hence the unknown value in 'default' is actually a separate value.\n",
        "\n",
        "We start with creating new variables for the unknown values in 'education', 'job', 'housing' and 'loan'. We do this to see if the values are missing at random or is there a pattern in the missing values."
      ]
    },
    {
      "cell_type": "code",
      "metadata": {
        "id": "ckEpokQS_2mO",
        "colab_type": "code",
        "colab": {}
      },
      "source": [
        "sig_cat_var = ['education','job','housing','loan']\n",
        "for var in sig_cat_var:\n",
        "    df[var + '_un'] = (df[var] == 'unknown').astype(int)"
      ],
      "execution_count": 0,
      "outputs": []
    },
    {
      "cell_type": "markdown",
      "metadata": {
        "id": "ue9l4Pl0AQVb",
        "colab_type": "text"
      },
      "source": [
        "### Imputation:\n",
        "Now, to infer the missing values in 'job' and 'education', we make use of the cross-tabulation between 'job' and 'education'. Our hypothesis here is that 'job' is influenced by the 'education' of a person. Hence, we can infer 'job' based on the education of the person. Moreover, since we are just filling the missing values, we are not much concerned about the causal inference. We, therefore, can use the job to predict the education."
      ]
    },
    {
      "cell_type": "code",
      "metadata": {
        "id": "qIUlnqp7AV09",
        "colab_type": "code",
        "colab": {}
      },
      "source": [
        "def cross_tab(df,f1,f2):\n",
        "    jobs=list(df[f1].unique())\n",
        "    edu=list(df[f2].unique())\n",
        "    dataframes=[]\n",
        "    for e in edu:\n",
        "        dfe=df[df[f2]==e]\n",
        "        dfejob=dfe.groupby(f1).count()[f2]\n",
        "        dataframes.append(dfejob)\n",
        "    xx=pd.concat(dataframes,axis=1)\n",
        "    xx.columns=edu\n",
        "    xx=xx.fillna(0)\n",
        "    return xx"
      ],
      "execution_count": 0,
      "outputs": []
    },
    {
      "cell_type": "code",
      "metadata": {
        "id": "cWvJRzhoAaw8",
        "colab_type": "code",
        "outputId": "6a300063-f2e8-487a-ab11-6b0a57b1ce42",
        "colab": {
          "base_uri": "https://localhost:8080/",
          "height": 537
        }
      },
      "source": [
        "cross_tab(df,'job','education')"
      ],
      "execution_count": 8,
      "outputs": [
        {
          "output_type": "stream",
          "text": [
            "/usr/local/lib/python3.6/dist-packages/ipykernel_launcher.py:9: FutureWarning: Sorting because non-concatenation axis is not aligned. A future version\n",
            "of pandas will change to not sort by default.\n",
            "\n",
            "To accept the future behavior, pass 'sort=False'.\n",
            "\n",
            "To retain the current behavior and silence the warning, pass 'sort=True'.\n",
            "\n",
            "  if __name__ == '__main__':\n"
          ],
          "name": "stderr"
        },
        {
          "output_type": "execute_result",
          "data": {
            "text/html": [
              "<div>\n",
              "<style scoped>\n",
              "    .dataframe tbody tr th:only-of-type {\n",
              "        vertical-align: middle;\n",
              "    }\n",
              "\n",
              "    .dataframe tbody tr th {\n",
              "        vertical-align: top;\n",
              "    }\n",
              "\n",
              "    .dataframe thead th {\n",
              "        text-align: right;\n",
              "    }\n",
              "</style>\n",
              "<table border=\"1\" class=\"dataframe\">\n",
              "  <thead>\n",
              "    <tr style=\"text-align: right;\">\n",
              "      <th></th>\n",
              "      <th>basic.4y</th>\n",
              "      <th>high.school</th>\n",
              "      <th>basic.6y</th>\n",
              "      <th>basic.9y</th>\n",
              "      <th>professional.course</th>\n",
              "      <th>unknown</th>\n",
              "      <th>university.degree</th>\n",
              "      <th>illiterate</th>\n",
              "    </tr>\n",
              "  </thead>\n",
              "  <tbody>\n",
              "    <tr>\n",
              "      <th>admin.</th>\n",
              "      <td>77</td>\n",
              "      <td>3329</td>\n",
              "      <td>151</td>\n",
              "      <td>499</td>\n",
              "      <td>363</td>\n",
              "      <td>249</td>\n",
              "      <td>5753</td>\n",
              "      <td>1.0</td>\n",
              "    </tr>\n",
              "    <tr>\n",
              "      <th>blue-collar</th>\n",
              "      <td>2318</td>\n",
              "      <td>878</td>\n",
              "      <td>1426</td>\n",
              "      <td>3623</td>\n",
              "      <td>453</td>\n",
              "      <td>454</td>\n",
              "      <td>94</td>\n",
              "      <td>8.0</td>\n",
              "    </tr>\n",
              "    <tr>\n",
              "      <th>entrepreneur</th>\n",
              "      <td>137</td>\n",
              "      <td>234</td>\n",
              "      <td>71</td>\n",
              "      <td>210</td>\n",
              "      <td>135</td>\n",
              "      <td>57</td>\n",
              "      <td>610</td>\n",
              "      <td>2.0</td>\n",
              "    </tr>\n",
              "    <tr>\n",
              "      <th>housemaid</th>\n",
              "      <td>474</td>\n",
              "      <td>174</td>\n",
              "      <td>77</td>\n",
              "      <td>94</td>\n",
              "      <td>59</td>\n",
              "      <td>42</td>\n",
              "      <td>139</td>\n",
              "      <td>1.0</td>\n",
              "    </tr>\n",
              "    <tr>\n",
              "      <th>management</th>\n",
              "      <td>100</td>\n",
              "      <td>298</td>\n",
              "      <td>85</td>\n",
              "      <td>166</td>\n",
              "      <td>89</td>\n",
              "      <td>123</td>\n",
              "      <td>2063</td>\n",
              "      <td>0.0</td>\n",
              "    </tr>\n",
              "    <tr>\n",
              "      <th>retired</th>\n",
              "      <td>597</td>\n",
              "      <td>276</td>\n",
              "      <td>75</td>\n",
              "      <td>145</td>\n",
              "      <td>241</td>\n",
              "      <td>98</td>\n",
              "      <td>285</td>\n",
              "      <td>3.0</td>\n",
              "    </tr>\n",
              "    <tr>\n",
              "      <th>self-employed</th>\n",
              "      <td>93</td>\n",
              "      <td>118</td>\n",
              "      <td>25</td>\n",
              "      <td>220</td>\n",
              "      <td>168</td>\n",
              "      <td>29</td>\n",
              "      <td>765</td>\n",
              "      <td>3.0</td>\n",
              "    </tr>\n",
              "    <tr>\n",
              "      <th>services</th>\n",
              "      <td>132</td>\n",
              "      <td>2682</td>\n",
              "      <td>226</td>\n",
              "      <td>388</td>\n",
              "      <td>218</td>\n",
              "      <td>150</td>\n",
              "      <td>173</td>\n",
              "      <td>0.0</td>\n",
              "    </tr>\n",
              "    <tr>\n",
              "      <th>student</th>\n",
              "      <td>26</td>\n",
              "      <td>357</td>\n",
              "      <td>13</td>\n",
              "      <td>99</td>\n",
              "      <td>43</td>\n",
              "      <td>167</td>\n",
              "      <td>170</td>\n",
              "      <td>0.0</td>\n",
              "    </tr>\n",
              "    <tr>\n",
              "      <th>technician</th>\n",
              "      <td>58</td>\n",
              "      <td>873</td>\n",
              "      <td>87</td>\n",
              "      <td>384</td>\n",
              "      <td>3320</td>\n",
              "      <td>212</td>\n",
              "      <td>1809</td>\n",
              "      <td>0.0</td>\n",
              "    </tr>\n",
              "    <tr>\n",
              "      <th>unemployed</th>\n",
              "      <td>112</td>\n",
              "      <td>259</td>\n",
              "      <td>34</td>\n",
              "      <td>186</td>\n",
              "      <td>142</td>\n",
              "      <td>19</td>\n",
              "      <td>262</td>\n",
              "      <td>0.0</td>\n",
              "    </tr>\n",
              "    <tr>\n",
              "      <th>unknown</th>\n",
              "      <td>52</td>\n",
              "      <td>37</td>\n",
              "      <td>22</td>\n",
              "      <td>31</td>\n",
              "      <td>12</td>\n",
              "      <td>131</td>\n",
              "      <td>45</td>\n",
              "      <td>0.0</td>\n",
              "    </tr>\n",
              "  </tbody>\n",
              "</table>\n",
              "</div>"
            ],
            "text/plain": [
              "               basic.4y  high.school  ...  university.degree  illiterate\n",
              "admin.               77         3329  ...               5753         1.0\n",
              "blue-collar        2318          878  ...                 94         8.0\n",
              "entrepreneur        137          234  ...                610         2.0\n",
              "housemaid           474          174  ...                139         1.0\n",
              "management          100          298  ...               2063         0.0\n",
              "retired             597          276  ...                285         3.0\n",
              "self-employed        93          118  ...                765         3.0\n",
              "services            132         2682  ...                173         0.0\n",
              "student              26          357  ...                170         0.0\n",
              "technician           58          873  ...               1809         0.0\n",
              "unemployed          112          259  ...                262         0.0\n",
              "unknown              52           37  ...                 45         0.0\n",
              "\n",
              "[12 rows x 8 columns]"
            ]
          },
          "metadata": {
            "tags": []
          },
          "execution_count": 8
        }
      ]
    },
    {
      "cell_type": "code",
      "metadata": {
        "id": "5SCGc5NhC6CN",
        "colab_type": "code",
        "outputId": "fa16d67c-acc3-4ff1-a225-c3a23954b451",
        "colab": {
          "base_uri": "https://localhost:8080/",
          "height": 218
        }
      },
      "source": [
        "df['job'][df['age']>60].value_counts()"
      ],
      "execution_count": 9,
      "outputs": [
        {
          "output_type": "execute_result",
          "data": {
            "text/plain": [
              "retired          678\n",
              "housemaid         54\n",
              "admin.            47\n",
              "technician        34\n",
              "management        30\n",
              "unknown           21\n",
              "blue-collar       20\n",
              "self-employed      9\n",
              "entrepreneur       8\n",
              "unemployed         7\n",
              "services           2\n",
              "Name: job, dtype: int64"
            ]
          },
          "metadata": {
            "tags": []
          },
          "execution_count": 9
        }
      ]
    },
    {
      "cell_type": "code",
      "metadata": {
        "id": "m2bhvFmoDWXl",
        "colab_type": "code",
        "colab": {}
      },
      "source": [
        "df.loc[(df['age']>60) & (df['job']=='unknown'), 'job'] = 'retired'\n",
        "df.loc[(df['education']=='unknown') & (df['job']=='management'), 'education'] = 'university.degree'\n",
        "df.loc[(df['education']=='unknown') & (df['job']=='services'), 'education'] = 'high.school'\n",
        "df.loc[(df['education']=='unknown') & (df['job']=='housemaid'), 'education'] = 'basic.4y'\n",
        "df.loc[(df['job'] == 'unknown') & (df['education']=='basic.4y'), 'job'] = 'blue-collar'\n",
        "df.loc[(df['job'] == 'unknown') & (df['education']=='basic.6y'), 'job'] = 'blue-collar'\n",
        "df.loc[(df['job'] == 'unknown') & (df['education']=='basic.9y'), 'job'] = 'blue-collar'\n",
        "df.loc[(df['job']=='unknown') & (df['education']=='professional.course'), 'job'] = 'technician'"
      ],
      "execution_count": 0,
      "outputs": []
    },
    {
      "cell_type": "code",
      "metadata": {
        "id": "uFfKghHxDhRN",
        "colab_type": "code",
        "outputId": "ef1a1ff3-ed5e-44d2-b02f-5c82322cd9bc",
        "colab": {
          "base_uri": "https://localhost:8080/",
          "height": 537
        }
      },
      "source": [
        "cross_tab(df,'job','education')"
      ],
      "execution_count": 11,
      "outputs": [
        {
          "output_type": "stream",
          "text": [
            "/usr/local/lib/python3.6/dist-packages/ipykernel_launcher.py:9: FutureWarning: Sorting because non-concatenation axis is not aligned. A future version\n",
            "of pandas will change to not sort by default.\n",
            "\n",
            "To accept the future behavior, pass 'sort=False'.\n",
            "\n",
            "To retain the current behavior and silence the warning, pass 'sort=True'.\n",
            "\n",
            "  if __name__ == '__main__':\n"
          ],
          "name": "stderr"
        },
        {
          "output_type": "execute_result",
          "data": {
            "text/html": [
              "<div>\n",
              "<style scoped>\n",
              "    .dataframe tbody tr th:only-of-type {\n",
              "        vertical-align: middle;\n",
              "    }\n",
              "\n",
              "    .dataframe tbody tr th {\n",
              "        vertical-align: top;\n",
              "    }\n",
              "\n",
              "    .dataframe thead th {\n",
              "        text-align: right;\n",
              "    }\n",
              "</style>\n",
              "<table border=\"1\" class=\"dataframe\">\n",
              "  <thead>\n",
              "    <tr style=\"text-align: right;\">\n",
              "      <th></th>\n",
              "      <th>basic.4y</th>\n",
              "      <th>high.school</th>\n",
              "      <th>basic.6y</th>\n",
              "      <th>basic.9y</th>\n",
              "      <th>professional.course</th>\n",
              "      <th>unknown</th>\n",
              "      <th>university.degree</th>\n",
              "      <th>illiterate</th>\n",
              "    </tr>\n",
              "  </thead>\n",
              "  <tbody>\n",
              "    <tr>\n",
              "      <th>admin.</th>\n",
              "      <td>77.0</td>\n",
              "      <td>3329</td>\n",
              "      <td>151.0</td>\n",
              "      <td>499.0</td>\n",
              "      <td>363.0</td>\n",
              "      <td>249.0</td>\n",
              "      <td>5753</td>\n",
              "      <td>1.0</td>\n",
              "    </tr>\n",
              "    <tr>\n",
              "      <th>blue-collar</th>\n",
              "      <td>2366.0</td>\n",
              "      <td>878</td>\n",
              "      <td>1448.0</td>\n",
              "      <td>3654.0</td>\n",
              "      <td>453.0</td>\n",
              "      <td>454.0</td>\n",
              "      <td>94</td>\n",
              "      <td>8.0</td>\n",
              "    </tr>\n",
              "    <tr>\n",
              "      <th>entrepreneur</th>\n",
              "      <td>137.0</td>\n",
              "      <td>234</td>\n",
              "      <td>71.0</td>\n",
              "      <td>210.0</td>\n",
              "      <td>135.0</td>\n",
              "      <td>57.0</td>\n",
              "      <td>610</td>\n",
              "      <td>2.0</td>\n",
              "    </tr>\n",
              "    <tr>\n",
              "      <th>housemaid</th>\n",
              "      <td>516.0</td>\n",
              "      <td>174</td>\n",
              "      <td>77.0</td>\n",
              "      <td>94.0</td>\n",
              "      <td>59.0</td>\n",
              "      <td>0.0</td>\n",
              "      <td>139</td>\n",
              "      <td>1.0</td>\n",
              "    </tr>\n",
              "    <tr>\n",
              "      <th>management</th>\n",
              "      <td>100.0</td>\n",
              "      <td>298</td>\n",
              "      <td>85.0</td>\n",
              "      <td>166.0</td>\n",
              "      <td>89.0</td>\n",
              "      <td>0.0</td>\n",
              "      <td>2186</td>\n",
              "      <td>0.0</td>\n",
              "    </tr>\n",
              "    <tr>\n",
              "      <th>retired</th>\n",
              "      <td>601.0</td>\n",
              "      <td>276</td>\n",
              "      <td>75.0</td>\n",
              "      <td>145.0</td>\n",
              "      <td>243.0</td>\n",
              "      <td>112.0</td>\n",
              "      <td>286</td>\n",
              "      <td>3.0</td>\n",
              "    </tr>\n",
              "    <tr>\n",
              "      <th>self-employed</th>\n",
              "      <td>93.0</td>\n",
              "      <td>118</td>\n",
              "      <td>25.0</td>\n",
              "      <td>220.0</td>\n",
              "      <td>168.0</td>\n",
              "      <td>29.0</td>\n",
              "      <td>765</td>\n",
              "      <td>3.0</td>\n",
              "    </tr>\n",
              "    <tr>\n",
              "      <th>services</th>\n",
              "      <td>132.0</td>\n",
              "      <td>2832</td>\n",
              "      <td>226.0</td>\n",
              "      <td>388.0</td>\n",
              "      <td>218.0</td>\n",
              "      <td>0.0</td>\n",
              "      <td>173</td>\n",
              "      <td>0.0</td>\n",
              "    </tr>\n",
              "    <tr>\n",
              "      <th>student</th>\n",
              "      <td>26.0</td>\n",
              "      <td>357</td>\n",
              "      <td>13.0</td>\n",
              "      <td>99.0</td>\n",
              "      <td>43.0</td>\n",
              "      <td>167.0</td>\n",
              "      <td>170</td>\n",
              "      <td>0.0</td>\n",
              "    </tr>\n",
              "    <tr>\n",
              "      <th>technician</th>\n",
              "      <td>58.0</td>\n",
              "      <td>873</td>\n",
              "      <td>87.0</td>\n",
              "      <td>384.0</td>\n",
              "      <td>3330.0</td>\n",
              "      <td>212.0</td>\n",
              "      <td>1809</td>\n",
              "      <td>0.0</td>\n",
              "    </tr>\n",
              "    <tr>\n",
              "      <th>unemployed</th>\n",
              "      <td>112.0</td>\n",
              "      <td>259</td>\n",
              "      <td>34.0</td>\n",
              "      <td>186.0</td>\n",
              "      <td>142.0</td>\n",
              "      <td>19.0</td>\n",
              "      <td>262</td>\n",
              "      <td>0.0</td>\n",
              "    </tr>\n",
              "    <tr>\n",
              "      <th>unknown</th>\n",
              "      <td>0.0</td>\n",
              "      <td>37</td>\n",
              "      <td>0.0</td>\n",
              "      <td>0.0</td>\n",
              "      <td>0.0</td>\n",
              "      <td>117.0</td>\n",
              "      <td>44</td>\n",
              "      <td>0.0</td>\n",
              "    </tr>\n",
              "  </tbody>\n",
              "</table>\n",
              "</div>"
            ],
            "text/plain": [
              "               basic.4y  high.school  ...  university.degree  illiterate\n",
              "admin.             77.0         3329  ...               5753         1.0\n",
              "blue-collar      2366.0          878  ...                 94         8.0\n",
              "entrepreneur      137.0          234  ...                610         2.0\n",
              "housemaid         516.0          174  ...                139         1.0\n",
              "management        100.0          298  ...               2186         0.0\n",
              "retired           601.0          276  ...                286         3.0\n",
              "self-employed      93.0          118  ...                765         3.0\n",
              "services          132.0         2832  ...                173         0.0\n",
              "student            26.0          357  ...                170         0.0\n",
              "technician         58.0          873  ...               1809         0.0\n",
              "unemployed        112.0          259  ...                262         0.0\n",
              "unknown             0.0           37  ...                 44         0.0\n",
              "\n",
              "[12 rows x 8 columns]"
            ]
          },
          "metadata": {
            "tags": []
          },
          "execution_count": 11
        }
      ]
    },
    {
      "cell_type": "markdown",
      "metadata": {
        "id": "9NbAkXS7DrQf",
        "colab_type": "text"
      },
      "source": [
        "### we are able to reduce the number of unknowns and enhance our data set."
      ]
    },
    {
      "cell_type": "code",
      "metadata": {
        "id": "z_OF6HsWDpfw",
        "colab_type": "code",
        "colab": {}
      },
      "source": [
        "jobhousing=cross_tab(df,'job','housing')\n",
        "jobloan=cross_tab(df,'job','loan')"
      ],
      "execution_count": 0,
      "outputs": []
    },
    {
      "cell_type": "markdown",
      "metadata": {
        "id": "a_U30E_0D5IH",
        "colab_type": "text"
      },
      "source": [
        "### Imputations for house and loan : \n",
        "We are again using cross-tabulation between 'house' and 'job' and between 'loan' and 'job.' Our hypothesis is that housing loan status (Yes or No) should be in the proportion of each job category. Hence using the prior known distribution of the housing loan for each job category, the house loan for unknown people will be predicted such that the prior distribution (% House = Yes's and No's for each job category remains the same). Similarly, we have filled the missing values in the 'loan' variable."
      ]
    },
    {
      "cell_type": "code",
      "metadata": {
        "id": "qqjd5hOGD3ye",
        "colab_type": "code",
        "colab": {}
      },
      "source": [
        "def fillhousing(df,jobhousing):\n",
        "    \"\"\"Function for imputation via cross-tabulation to fill missing values for the 'housing' categorical feature\"\"\"\n",
        "    jobs=['housemaid','services','admin.','blue-collar','technician','retired','management','unemployed','self-employed','entrepreneur','student']\n",
        "    house=[\"no\",\"yes\"]\n",
        "    for j in jobs:\n",
        "        ind=df[np.logical_and(np.array(df['housing']=='unknown'),np.array(df['job']==j))].index\n",
        "        mask=np.random.rand(len(ind))<((jobhousing.loc[j]['no'])/(jobhousing.loc[j]['no']+jobhousing.loc[j]['yes']))\n",
        "        ind1=ind[mask]\n",
        "        ind2=ind[~mask]\n",
        "        df.loc[ind1,\"housing\"]='no'\n",
        "        df.loc[ind2,\"housing\"]='yes'\n",
        "    return df"
      ],
      "execution_count": 0,
      "outputs": []
    },
    {
      "cell_type": "code",
      "metadata": {
        "id": "ForO3jdAEKeQ",
        "colab_type": "code",
        "colab": {}
      },
      "source": [
        "def fillloan(df,jobloan):\n",
        "    \"\"\"Function for imputation via cross-tabulation to fill missing values for the 'loan' categorical feature\"\"\"\n",
        "    jobs=['housemaid','services','admin.','blue-collar','technician','retired','management','unemployed','self-employed','entrepreneur','student']\n",
        "    loan=[\"no\",\"yes\"]\n",
        "    for j in jobs:\n",
        "        ind=df[np.logical_and(np.array(df['loan']=='unknown'),np.array(df['job']==j))].index\n",
        "        mask=np.random.rand(len(ind))<((jobloan.loc[j]['no'])/(jobloan.loc[j]['no']+jobloan.loc[j]['yes']))\n",
        "        ind1=ind[mask]\n",
        "        ind2=ind[~mask]\n",
        "        df.loc[ind1,\"loan\"]='no'\n",
        "        df.loc[ind2,\"loan\"]='yes'\n",
        "    return df"
      ],
      "execution_count": 0,
      "outputs": []
    },
    {
      "cell_type": "code",
      "metadata": {
        "id": "5rcMe3YREPYS",
        "colab_type": "code",
        "outputId": "59ff2418-91bd-442d-9997-dbf29cba62fb",
        "colab": {
          "base_uri": "https://localhost:8080/",
          "height": 215
        }
      },
      "source": [
        "df=fillhousing(df,jobhousing)\n",
        "df=fillloan(df,jobloan)\n",
        "df.sample(5)"
      ],
      "execution_count": 56,
      "outputs": [
        {
          "output_type": "execute_result",
          "data": {
            "text/html": [
              "<div>\n",
              "<style scoped>\n",
              "    .dataframe tbody tr th:only-of-type {\n",
              "        vertical-align: middle;\n",
              "    }\n",
              "\n",
              "    .dataframe tbody tr th {\n",
              "        vertical-align: top;\n",
              "    }\n",
              "\n",
              "    .dataframe thead th {\n",
              "        text-align: right;\n",
              "    }\n",
              "</style>\n",
              "<table border=\"1\" class=\"dataframe\">\n",
              "  <thead>\n",
              "    <tr style=\"text-align: right;\">\n",
              "      <th></th>\n",
              "      <th>age</th>\n",
              "      <th>job</th>\n",
              "      <th>marital</th>\n",
              "      <th>education</th>\n",
              "      <th>default</th>\n",
              "      <th>housing</th>\n",
              "      <th>loan</th>\n",
              "      <th>contact</th>\n",
              "      <th>month</th>\n",
              "      <th>day_of_week</th>\n",
              "      <th>duration</th>\n",
              "      <th>campaign</th>\n",
              "      <th>pdays</th>\n",
              "      <th>previous</th>\n",
              "      <th>poutcome</th>\n",
              "      <th>emp.var.rate</th>\n",
              "      <th>cons.price.idx</th>\n",
              "      <th>cons.conf.idx</th>\n",
              "      <th>euribor3m</th>\n",
              "      <th>nr.employed</th>\n",
              "      <th>y</th>\n",
              "    </tr>\n",
              "  </thead>\n",
              "  <tbody>\n",
              "    <tr>\n",
              "      <th>1879</th>\n",
              "      <td>30</td>\n",
              "      <td>housemaid</td>\n",
              "      <td>married</td>\n",
              "      <td>high.school</td>\n",
              "      <td>unknown</td>\n",
              "      <td>yes</td>\n",
              "      <td>no</td>\n",
              "      <td>telephone</td>\n",
              "      <td>may</td>\n",
              "      <td>fri</td>\n",
              "      <td>175</td>\n",
              "      <td>2</td>\n",
              "      <td>999</td>\n",
              "      <td>0</td>\n",
              "      <td>nonexistent</td>\n",
              "      <td>1.1</td>\n",
              "      <td>93.994</td>\n",
              "      <td>-36.4</td>\n",
              "      <td>4.855</td>\n",
              "      <td>5191.0</td>\n",
              "      <td>no</td>\n",
              "    </tr>\n",
              "    <tr>\n",
              "      <th>8952</th>\n",
              "      <td>34</td>\n",
              "      <td>technician</td>\n",
              "      <td>single</td>\n",
              "      <td>professional.course</td>\n",
              "      <td>no</td>\n",
              "      <td>no</td>\n",
              "      <td>no</td>\n",
              "      <td>telephone</td>\n",
              "      <td>jun</td>\n",
              "      <td>thu</td>\n",
              "      <td>432</td>\n",
              "      <td>8</td>\n",
              "      <td>999</td>\n",
              "      <td>0</td>\n",
              "      <td>nonexistent</td>\n",
              "      <td>1.4</td>\n",
              "      <td>94.465</td>\n",
              "      <td>-41.8</td>\n",
              "      <td>4.866</td>\n",
              "      <td>5228.1</td>\n",
              "      <td>no</td>\n",
              "    </tr>\n",
              "    <tr>\n",
              "      <th>28657</th>\n",
              "      <td>52</td>\n",
              "      <td>blue-collar</td>\n",
              "      <td>divorced</td>\n",
              "      <td>basic.4y</td>\n",
              "      <td>no</td>\n",
              "      <td>yes</td>\n",
              "      <td>no</td>\n",
              "      <td>cellular</td>\n",
              "      <td>apr</td>\n",
              "      <td>thu</td>\n",
              "      <td>291</td>\n",
              "      <td>1</td>\n",
              "      <td>999</td>\n",
              "      <td>1</td>\n",
              "      <td>failure</td>\n",
              "      <td>-1.8</td>\n",
              "      <td>93.075</td>\n",
              "      <td>-47.1</td>\n",
              "      <td>1.410</td>\n",
              "      <td>5099.1</td>\n",
              "      <td>no</td>\n",
              "    </tr>\n",
              "    <tr>\n",
              "      <th>30058</th>\n",
              "      <td>44</td>\n",
              "      <td>admin.</td>\n",
              "      <td>married</td>\n",
              "      <td>university.degree</td>\n",
              "      <td>no</td>\n",
              "      <td>no</td>\n",
              "      <td>no</td>\n",
              "      <td>cellular</td>\n",
              "      <td>apr</td>\n",
              "      <td>thu</td>\n",
              "      <td>172</td>\n",
              "      <td>1</td>\n",
              "      <td>999</td>\n",
              "      <td>0</td>\n",
              "      <td>nonexistent</td>\n",
              "      <td>-1.8</td>\n",
              "      <td>93.075</td>\n",
              "      <td>-47.1</td>\n",
              "      <td>1.406</td>\n",
              "      <td>5099.1</td>\n",
              "      <td>yes</td>\n",
              "    </tr>\n",
              "    <tr>\n",
              "      <th>30665</th>\n",
              "      <td>36</td>\n",
              "      <td>admin.</td>\n",
              "      <td>divorced</td>\n",
              "      <td>high.school</td>\n",
              "      <td>no</td>\n",
              "      <td>yes</td>\n",
              "      <td>no</td>\n",
              "      <td>telephone</td>\n",
              "      <td>may</td>\n",
              "      <td>tue</td>\n",
              "      <td>19</td>\n",
              "      <td>2</td>\n",
              "      <td>999</td>\n",
              "      <td>0</td>\n",
              "      <td>nonexistent</td>\n",
              "      <td>-1.8</td>\n",
              "      <td>92.893</td>\n",
              "      <td>-46.2</td>\n",
              "      <td>1.344</td>\n",
              "      <td>5099.1</td>\n",
              "      <td>no</td>\n",
              "    </tr>\n",
              "  </tbody>\n",
              "</table>\n",
              "</div>"
            ],
            "text/plain": [
              "       age          job   marital  ... euribor3m nr.employed    y\n",
              "1879    30    housemaid   married  ...     4.855      5191.0   no\n",
              "8952    34   technician    single  ...     4.866      5228.1   no\n",
              "28657   52  blue-collar  divorced  ...     1.410      5099.1   no\n",
              "30058   44       admin.   married  ...     1.406      5099.1  yes\n",
              "30665   36       admin.  divorced  ...     1.344      5099.1   no\n",
              "\n",
              "[5 rows x 21 columns]"
            ]
          },
          "metadata": {
            "tags": []
          },
          "execution_count": 56
        }
      ]
    },
    {
      "cell_type": "code",
      "metadata": {
        "id": "ykCzdzrCFmF4",
        "colab_type": "code",
        "outputId": "d88f2e1b-c18e-40b1-a6a7-e8bd9aa71967",
        "colab": {
          "base_uri": "https://localhost:8080/",
          "height": 521
        }
      },
      "source": [
        "df.info()"
      ],
      "execution_count": 16,
      "outputs": [
        {
          "output_type": "stream",
          "text": [
            "<class 'pandas.core.frame.DataFrame'>\n",
            "RangeIndex: 41188 entries, 0 to 41187\n",
            "Data columns (total 25 columns):\n",
            "age               41188 non-null int64\n",
            "job               41188 non-null object\n",
            "marital           41188 non-null object\n",
            "education         41188 non-null object\n",
            "default           41188 non-null object\n",
            "housing           41188 non-null object\n",
            "loan              41188 non-null object\n",
            "contact           41188 non-null object\n",
            "month             41188 non-null object\n",
            "day_of_week       41188 non-null object\n",
            "duration          41188 non-null int64\n",
            "campaign          41188 non-null int64\n",
            "pdays             41188 non-null int64\n",
            "previous          41188 non-null int64\n",
            "poutcome          41188 non-null object\n",
            "emp.var.rate      41188 non-null float64\n",
            "cons.price.idx    41188 non-null float64\n",
            "cons.conf.idx     41188 non-null float64\n",
            "euribor3m         41188 non-null float64\n",
            "nr.employed       41188 non-null float64\n",
            "y                 41188 non-null object\n",
            "education_un      41188 non-null int64\n",
            "job_un            41188 non-null int64\n",
            "housing_un        41188 non-null int64\n",
            "loan_un           41188 non-null int64\n",
            "dtypes: float64(5), int64(9), object(11)\n",
            "memory usage: 7.9+ MB\n"
          ],
          "name": "stdout"
        }
      ]
    },
    {
      "cell_type": "markdown",
      "metadata": {
        "id": "GfwQlCZ3E_bo",
        "colab_type": "text"
      },
      "source": [
        "\n",
        "## Numerical variables:\n",
        "Let see the summary of the data in order to understand the numerical variables."
      ]
    },
    {
      "cell_type": "code",
      "metadata": {
        "id": "zjw3vmp3SopV",
        "colab_type": "code",
        "outputId": "f1d79449-04a9-4db5-99e1-39cc8d78064a",
        "colab": {
          "base_uri": "https://localhost:8080/",
          "height": 454
        }
      },
      "source": [
        "df.dtypes"
      ],
      "execution_count": 17,
      "outputs": [
        {
          "output_type": "execute_result",
          "data": {
            "text/plain": [
              "age                 int64\n",
              "job                object\n",
              "marital            object\n",
              "education          object\n",
              "default            object\n",
              "housing            object\n",
              "loan               object\n",
              "contact            object\n",
              "month              object\n",
              "day_of_week        object\n",
              "duration            int64\n",
              "campaign            int64\n",
              "pdays               int64\n",
              "previous            int64\n",
              "poutcome           object\n",
              "emp.var.rate      float64\n",
              "cons.price.idx    float64\n",
              "cons.conf.idx     float64\n",
              "euribor3m         float64\n",
              "nr.employed       float64\n",
              "y                  object\n",
              "education_un        int64\n",
              "job_un              int64\n",
              "housing_un          int64\n",
              "loan_un             int64\n",
              "dtype: object"
            ]
          },
          "metadata": {
            "tags": []
          },
          "execution_count": 17
        }
      ]
    },
    {
      "cell_type": "code",
      "metadata": {
        "id": "Kmka32UcFYhB",
        "colab_type": "code",
        "outputId": "be2107cf-2925-4220-f04c-a34ef9e740cd",
        "colab": {
          "base_uri": "https://localhost:8080/",
          "height": 284
        }
      },
      "source": [
        "num_var = ['age','campaign', 'duration', 'pdays', 'previous', 'emp.var.rate', 'cons.price.idx','cons.conf.idx','euribor3m',\n",
        "                      'nr.employed']\n",
        "df[num_var].describe()"
      ],
      "execution_count": 18,
      "outputs": [
        {
          "output_type": "execute_result",
          "data": {
            "text/html": [
              "<div>\n",
              "<style scoped>\n",
              "    .dataframe tbody tr th:only-of-type {\n",
              "        vertical-align: middle;\n",
              "    }\n",
              "\n",
              "    .dataframe tbody tr th {\n",
              "        vertical-align: top;\n",
              "    }\n",
              "\n",
              "    .dataframe thead th {\n",
              "        text-align: right;\n",
              "    }\n",
              "</style>\n",
              "<table border=\"1\" class=\"dataframe\">\n",
              "  <thead>\n",
              "    <tr style=\"text-align: right;\">\n",
              "      <th></th>\n",
              "      <th>age</th>\n",
              "      <th>campaign</th>\n",
              "      <th>duration</th>\n",
              "      <th>pdays</th>\n",
              "      <th>previous</th>\n",
              "      <th>emp.var.rate</th>\n",
              "      <th>cons.price.idx</th>\n",
              "      <th>cons.conf.idx</th>\n",
              "      <th>euribor3m</th>\n",
              "      <th>nr.employed</th>\n",
              "    </tr>\n",
              "  </thead>\n",
              "  <tbody>\n",
              "    <tr>\n",
              "      <th>count</th>\n",
              "      <td>41188.00000</td>\n",
              "      <td>41188.000000</td>\n",
              "      <td>41188.000000</td>\n",
              "      <td>41188.000000</td>\n",
              "      <td>41188.000000</td>\n",
              "      <td>41188.000000</td>\n",
              "      <td>41188.000000</td>\n",
              "      <td>41188.000000</td>\n",
              "      <td>41188.000000</td>\n",
              "      <td>41188.000000</td>\n",
              "    </tr>\n",
              "    <tr>\n",
              "      <th>mean</th>\n",
              "      <td>40.02406</td>\n",
              "      <td>2.567593</td>\n",
              "      <td>258.285010</td>\n",
              "      <td>962.475454</td>\n",
              "      <td>0.172963</td>\n",
              "      <td>0.081886</td>\n",
              "      <td>93.575664</td>\n",
              "      <td>-40.502600</td>\n",
              "      <td>3.621291</td>\n",
              "      <td>5167.035911</td>\n",
              "    </tr>\n",
              "    <tr>\n",
              "      <th>std</th>\n",
              "      <td>10.42125</td>\n",
              "      <td>2.770014</td>\n",
              "      <td>259.279249</td>\n",
              "      <td>186.910907</td>\n",
              "      <td>0.494901</td>\n",
              "      <td>1.570960</td>\n",
              "      <td>0.578840</td>\n",
              "      <td>4.628198</td>\n",
              "      <td>1.734447</td>\n",
              "      <td>72.251528</td>\n",
              "    </tr>\n",
              "    <tr>\n",
              "      <th>min</th>\n",
              "      <td>17.00000</td>\n",
              "      <td>1.000000</td>\n",
              "      <td>0.000000</td>\n",
              "      <td>0.000000</td>\n",
              "      <td>0.000000</td>\n",
              "      <td>-3.400000</td>\n",
              "      <td>92.201000</td>\n",
              "      <td>-50.800000</td>\n",
              "      <td>0.634000</td>\n",
              "      <td>4963.600000</td>\n",
              "    </tr>\n",
              "    <tr>\n",
              "      <th>25%</th>\n",
              "      <td>32.00000</td>\n",
              "      <td>1.000000</td>\n",
              "      <td>102.000000</td>\n",
              "      <td>999.000000</td>\n",
              "      <td>0.000000</td>\n",
              "      <td>-1.800000</td>\n",
              "      <td>93.075000</td>\n",
              "      <td>-42.700000</td>\n",
              "      <td>1.344000</td>\n",
              "      <td>5099.100000</td>\n",
              "    </tr>\n",
              "    <tr>\n",
              "      <th>50%</th>\n",
              "      <td>38.00000</td>\n",
              "      <td>2.000000</td>\n",
              "      <td>180.000000</td>\n",
              "      <td>999.000000</td>\n",
              "      <td>0.000000</td>\n",
              "      <td>1.100000</td>\n",
              "      <td>93.749000</td>\n",
              "      <td>-41.800000</td>\n",
              "      <td>4.857000</td>\n",
              "      <td>5191.000000</td>\n",
              "    </tr>\n",
              "    <tr>\n",
              "      <th>75%</th>\n",
              "      <td>47.00000</td>\n",
              "      <td>3.000000</td>\n",
              "      <td>319.000000</td>\n",
              "      <td>999.000000</td>\n",
              "      <td>0.000000</td>\n",
              "      <td>1.400000</td>\n",
              "      <td>93.994000</td>\n",
              "      <td>-36.400000</td>\n",
              "      <td>4.961000</td>\n",
              "      <td>5228.100000</td>\n",
              "    </tr>\n",
              "    <tr>\n",
              "      <th>max</th>\n",
              "      <td>98.00000</td>\n",
              "      <td>56.000000</td>\n",
              "      <td>4918.000000</td>\n",
              "      <td>999.000000</td>\n",
              "      <td>7.000000</td>\n",
              "      <td>1.400000</td>\n",
              "      <td>94.767000</td>\n",
              "      <td>-26.900000</td>\n",
              "      <td>5.045000</td>\n",
              "      <td>5228.100000</td>\n",
              "    </tr>\n",
              "  </tbody>\n",
              "</table>\n",
              "</div>"
            ],
            "text/plain": [
              "               age      campaign  ...     euribor3m   nr.employed\n",
              "count  41188.00000  41188.000000  ...  41188.000000  41188.000000\n",
              "mean      40.02406      2.567593  ...      3.621291   5167.035911\n",
              "std       10.42125      2.770014  ...      1.734447     72.251528\n",
              "min       17.00000      1.000000  ...      0.634000   4963.600000\n",
              "25%       32.00000      1.000000  ...      1.344000   5099.100000\n",
              "50%       38.00000      2.000000  ...      4.857000   5191.000000\n",
              "75%       47.00000      3.000000  ...      4.961000   5228.100000\n",
              "max       98.00000     56.000000  ...      5.045000   5228.100000\n",
              "\n",
              "[8 rows x 10 columns]"
            ]
          },
          "metadata": {
            "tags": []
          },
          "execution_count": 18
        }
      ]
    },
    {
      "cell_type": "markdown",
      "metadata": {
        "id": "Lk-zMPdUG_v_",
        "colab_type": "text"
      },
      "source": [
        "### Missing Values: \n",
        "From the source of the data the missing values, or NaNs, are encoded as '999'. From the above table, it is clear that only 'pdays' has missing values. Moreover, a majority of the values for 'pdays' are missing.\n",
        "\n",
        "### Age:\n",
        "   * Average age of the people in the dataset is ~40 with std of 10.42\n",
        "   * Min. age is 17\n",
        "   * Max. age is 98\n",
        "   * quantile refers that 75% of the people have 47or less  age.\n",
        "   * As 98 is max, this is likely as outlier [\"47*(3/2) = 70.5 \". So anything greater than 70.5 is outlier].\n",
        "\n",
        "### Duration:\n",
        "   * Average duration of the people speaking in the dataset is (approx)258 with std of 259, as standard deviation is quite huge it means that duration is wide spread across the dataset.\n",
        "   * Min. duration is 0\n",
        "   * Max. duration is 4918\n",
        "   * quantile 75%(percentile) refers that 75 percentage of the people spoke for 319 seconds or less.\n",
        "   * while comparing with 75% quantile, 4981 is a outlier data point.\n",
        "\n",
        "### Outliers: \n",
        "It can be seen that only 'age', 'campaign', duration have outliers.\n",
        "\n",
        "But we also see that the value of these outliers are not so unrealistic (max('age')=98 and max('campaign')=56). Hence, we need not remove them since the prediction model should represent the real world. This improves the generalizability of the model and makes it robust for real world situations. The outliers, therefore, are not removed.\n",
        "## Missing Values in Numerical Variables\n",
        "Let's examine the missing values in 'pdays'"
      ]
    },
    {
      "cell_type": "markdown",
      "metadata": {
        "id": "U50xsX0We7hM",
        "colab_type": "text"
      },
      "source": [
        "We have seen from pairplot that data here is not-symmetric. Let's examine the missing values in 'pdays'"
      ]
    },
    {
      "cell_type": "code",
      "metadata": {
        "id": "V3YbP8nlJXZ2",
        "colab_type": "code",
        "outputId": "8b8b3db9-b1e7-4ba4-9e08-4d2537818c09",
        "colab": {
          "base_uri": "https://localhost:8080/",
          "height": 876
        }
      },
      "source": [
        "pd.crosstab(df['pdays'],df['poutcome'], values=df['age'], aggfunc='count', normalize=True)"
      ],
      "execution_count": 19,
      "outputs": [
        {
          "output_type": "execute_result",
          "data": {
            "text/html": [
              "<div>\n",
              "<style scoped>\n",
              "    .dataframe tbody tr th:only-of-type {\n",
              "        vertical-align: middle;\n",
              "    }\n",
              "\n",
              "    .dataframe tbody tr th {\n",
              "        vertical-align: top;\n",
              "    }\n",
              "\n",
              "    .dataframe thead th {\n",
              "        text-align: right;\n",
              "    }\n",
              "</style>\n",
              "<table border=\"1\" class=\"dataframe\">\n",
              "  <thead>\n",
              "    <tr style=\"text-align: right;\">\n",
              "      <th>poutcome</th>\n",
              "      <th>failure</th>\n",
              "      <th>nonexistent</th>\n",
              "      <th>success</th>\n",
              "    </tr>\n",
              "    <tr>\n",
              "      <th>pdays</th>\n",
              "      <th></th>\n",
              "      <th></th>\n",
              "      <th></th>\n",
              "    </tr>\n",
              "  </thead>\n",
              "  <tbody>\n",
              "    <tr>\n",
              "      <th>0</th>\n",
              "      <td>0.000000</td>\n",
              "      <td>0.000000</td>\n",
              "      <td>0.000364</td>\n",
              "    </tr>\n",
              "    <tr>\n",
              "      <th>1</th>\n",
              "      <td>0.000000</td>\n",
              "      <td>0.000000</td>\n",
              "      <td>0.000631</td>\n",
              "    </tr>\n",
              "    <tr>\n",
              "      <th>2</th>\n",
              "      <td>0.000000</td>\n",
              "      <td>0.000000</td>\n",
              "      <td>0.001481</td>\n",
              "    </tr>\n",
              "    <tr>\n",
              "      <th>3</th>\n",
              "      <td>0.000097</td>\n",
              "      <td>0.000000</td>\n",
              "      <td>0.010561</td>\n",
              "    </tr>\n",
              "    <tr>\n",
              "      <th>4</th>\n",
              "      <td>0.000049</td>\n",
              "      <td>0.000000</td>\n",
              "      <td>0.002816</td>\n",
              "    </tr>\n",
              "    <tr>\n",
              "      <th>5</th>\n",
              "      <td>0.000097</td>\n",
              "      <td>0.000000</td>\n",
              "      <td>0.001020</td>\n",
              "    </tr>\n",
              "    <tr>\n",
              "      <th>6</th>\n",
              "      <td>0.000607</td>\n",
              "      <td>0.000000</td>\n",
              "      <td>0.009396</td>\n",
              "    </tr>\n",
              "    <tr>\n",
              "      <th>7</th>\n",
              "      <td>0.000364</td>\n",
              "      <td>0.000000</td>\n",
              "      <td>0.001093</td>\n",
              "    </tr>\n",
              "    <tr>\n",
              "      <th>8</th>\n",
              "      <td>0.000146</td>\n",
              "      <td>0.000000</td>\n",
              "      <td>0.000291</td>\n",
              "    </tr>\n",
              "    <tr>\n",
              "      <th>9</th>\n",
              "      <td>0.000583</td>\n",
              "      <td>0.000000</td>\n",
              "      <td>0.000971</td>\n",
              "    </tr>\n",
              "    <tr>\n",
              "      <th>10</th>\n",
              "      <td>0.000170</td>\n",
              "      <td>0.000000</td>\n",
              "      <td>0.001093</td>\n",
              "    </tr>\n",
              "    <tr>\n",
              "      <th>11</th>\n",
              "      <td>0.000073</td>\n",
              "      <td>0.000000</td>\n",
              "      <td>0.000607</td>\n",
              "    </tr>\n",
              "    <tr>\n",
              "      <th>12</th>\n",
              "      <td>0.000316</td>\n",
              "      <td>0.000000</td>\n",
              "      <td>0.001093</td>\n",
              "    </tr>\n",
              "    <tr>\n",
              "      <th>13</th>\n",
              "      <td>0.000194</td>\n",
              "      <td>0.000000</td>\n",
              "      <td>0.000680</td>\n",
              "    </tr>\n",
              "    <tr>\n",
              "      <th>14</th>\n",
              "      <td>0.000121</td>\n",
              "      <td>0.000000</td>\n",
              "      <td>0.000364</td>\n",
              "    </tr>\n",
              "    <tr>\n",
              "      <th>15</th>\n",
              "      <td>0.000219</td>\n",
              "      <td>0.000000</td>\n",
              "      <td>0.000364</td>\n",
              "    </tr>\n",
              "    <tr>\n",
              "      <th>16</th>\n",
              "      <td>0.000049</td>\n",
              "      <td>0.000000</td>\n",
              "      <td>0.000219</td>\n",
              "    </tr>\n",
              "    <tr>\n",
              "      <th>17</th>\n",
              "      <td>0.000121</td>\n",
              "      <td>0.000000</td>\n",
              "      <td>0.000073</td>\n",
              "    </tr>\n",
              "    <tr>\n",
              "      <th>18</th>\n",
              "      <td>0.000121</td>\n",
              "      <td>0.000000</td>\n",
              "      <td>0.000049</td>\n",
              "    </tr>\n",
              "    <tr>\n",
              "      <th>19</th>\n",
              "      <td>0.000024</td>\n",
              "      <td>0.000000</td>\n",
              "      <td>0.000049</td>\n",
              "    </tr>\n",
              "    <tr>\n",
              "      <th>20</th>\n",
              "      <td>0.000024</td>\n",
              "      <td>0.000000</td>\n",
              "      <td>0.000000</td>\n",
              "    </tr>\n",
              "    <tr>\n",
              "      <th>21</th>\n",
              "      <td>0.000049</td>\n",
              "      <td>0.000000</td>\n",
              "      <td>0.000000</td>\n",
              "    </tr>\n",
              "    <tr>\n",
              "      <th>22</th>\n",
              "      <td>0.000000</td>\n",
              "      <td>0.000000</td>\n",
              "      <td>0.000073</td>\n",
              "    </tr>\n",
              "    <tr>\n",
              "      <th>25</th>\n",
              "      <td>0.000024</td>\n",
              "      <td>0.000000</td>\n",
              "      <td>0.000000</td>\n",
              "    </tr>\n",
              "    <tr>\n",
              "      <th>26</th>\n",
              "      <td>0.000000</td>\n",
              "      <td>0.000000</td>\n",
              "      <td>0.000024</td>\n",
              "    </tr>\n",
              "    <tr>\n",
              "      <th>27</th>\n",
              "      <td>0.000000</td>\n",
              "      <td>0.000000</td>\n",
              "      <td>0.000024</td>\n",
              "    </tr>\n",
              "    <tr>\n",
              "      <th>999</th>\n",
              "      <td>0.099786</td>\n",
              "      <td>0.863431</td>\n",
              "      <td>0.000000</td>\n",
              "    </tr>\n",
              "  </tbody>\n",
              "</table>\n",
              "</div>"
            ],
            "text/plain": [
              "poutcome   failure  nonexistent   success\n",
              "pdays                                    \n",
              "0         0.000000     0.000000  0.000364\n",
              "1         0.000000     0.000000  0.000631\n",
              "2         0.000000     0.000000  0.001481\n",
              "3         0.000097     0.000000  0.010561\n",
              "4         0.000049     0.000000  0.002816\n",
              "5         0.000097     0.000000  0.001020\n",
              "6         0.000607     0.000000  0.009396\n",
              "7         0.000364     0.000000  0.001093\n",
              "8         0.000146     0.000000  0.000291\n",
              "9         0.000583     0.000000  0.000971\n",
              "10        0.000170     0.000000  0.001093\n",
              "11        0.000073     0.000000  0.000607\n",
              "12        0.000316     0.000000  0.001093\n",
              "13        0.000194     0.000000  0.000680\n",
              "14        0.000121     0.000000  0.000364\n",
              "15        0.000219     0.000000  0.000364\n",
              "16        0.000049     0.000000  0.000219\n",
              "17        0.000121     0.000000  0.000073\n",
              "18        0.000121     0.000000  0.000049\n",
              "19        0.000024     0.000000  0.000049\n",
              "20        0.000024     0.000000  0.000000\n",
              "21        0.000049     0.000000  0.000000\n",
              "22        0.000000     0.000000  0.000073\n",
              "25        0.000024     0.000000  0.000000\n",
              "26        0.000000     0.000000  0.000024\n",
              "27        0.000000     0.000000  0.000024\n",
              "999       0.099786     0.863431  0.000000"
            ]
          },
          "metadata": {
            "tags": []
          },
          "execution_count": 19
        }
      ]
    },
    {
      "cell_type": "markdown",
      "metadata": {
        "id": "yB-qYeCFJqN0",
        "colab_type": "text"
      },
      "source": [
        "As we can see from the above table, the majority of the values for 'pdays' are missing especially in  the 'non-existent' category. This means that the majority of the values in 'pdays' are missing because the customer was never contacted before. \n",
        "\n",
        "To deal with this variable, we removed the numerical variable 'pdays' and replaced it with categorical variables with following categories: p_miss, p_less_5, p_bet_5_15, and p_great_15.\n",
        "\n",
        "Since we have many categorical variables, dummy variables needs to be created for those vaiables."
      ]
    },
    {
      "cell_type": "code",
      "metadata": {
        "id": "Vz8AWRlTJ2Je",
        "colab_type": "code",
        "outputId": "d8f31304-ad6f-4d2f-dc95-320c044ff230",
        "colab": {
          "base_uri": "https://localhost:8080/",
          "height": 353
        }
      },
      "source": [
        "#Add new categorical variables to our dataframe.\n",
        "df['p_miss'] = 0\n",
        "df['p_less_5'] = 0\n",
        "df['p_great_15'] = 0\n",
        "df['p_bet_5_15'] = 0\n",
        "df['p_miss'][df['pdays']==999] = 1\n",
        "df['p_less_5'][df['pdays']<5] = 1\n",
        "df['p_great_15'][(df['pdays']>15) & (df['pdays']<999)] = 1\n",
        "df['p_bet_5_15'][(df['pdays']>=5)&(df['pdays']<=15)]= 1\n",
        "drop = df.drop('pdays', axis=1)\n",
        "\n",
        "dummies=pd.get_dummies(drop)"
      ],
      "execution_count": 20,
      "outputs": [
        {
          "output_type": "stream",
          "text": [
            "/usr/local/lib/python3.6/dist-packages/ipykernel_launcher.py:5: SettingWithCopyWarning: \n",
            "A value is trying to be set on a copy of a slice from a DataFrame\n",
            "\n",
            "See the caveats in the documentation: http://pandas.pydata.org/pandas-docs/stable/indexing.html#indexing-view-versus-copy\n",
            "  \"\"\"\n",
            "/usr/local/lib/python3.6/dist-packages/ipykernel_launcher.py:6: SettingWithCopyWarning: \n",
            "A value is trying to be set on a copy of a slice from a DataFrame\n",
            "\n",
            "See the caveats in the documentation: http://pandas.pydata.org/pandas-docs/stable/indexing.html#indexing-view-versus-copy\n",
            "  \n",
            "/usr/local/lib/python3.6/dist-packages/ipykernel_launcher.py:7: SettingWithCopyWarning: \n",
            "A value is trying to be set on a copy of a slice from a DataFrame\n",
            "\n",
            "See the caveats in the documentation: http://pandas.pydata.org/pandas-docs/stable/indexing.html#indexing-view-versus-copy\n",
            "  import sys\n",
            "/usr/local/lib/python3.6/dist-packages/ipykernel_launcher.py:8: SettingWithCopyWarning: \n",
            "A value is trying to be set on a copy of a slice from a DataFrame\n",
            "\n",
            "See the caveats in the documentation: http://pandas.pydata.org/pandas-docs/stable/indexing.html#indexing-view-versus-copy\n",
            "  \n"
          ],
          "name": "stderr"
        }
      ]
    },
    {
      "cell_type": "code",
      "metadata": {
        "id": "n0grc5hyW6qr",
        "colab_type": "code",
        "outputId": "53387cb6-295f-474a-9149-98f9f3c56ae1",
        "colab": {
          "base_uri": "https://localhost:8080/",
          "height": 1000
        }
      },
      "source": [
        "dummies.info()"
      ],
      "execution_count": 21,
      "outputs": [
        {
          "output_type": "stream",
          "text": [
            "<class 'pandas.core.frame.DataFrame'>\n",
            "RangeIndex: 41188 entries, 0 to 41187\n",
            "Data columns (total 72 columns):\n",
            "age                              41188 non-null int64\n",
            "duration                         41188 non-null int64\n",
            "campaign                         41188 non-null int64\n",
            "previous                         41188 non-null int64\n",
            "emp.var.rate                     41188 non-null float64\n",
            "cons.price.idx                   41188 non-null float64\n",
            "cons.conf.idx                    41188 non-null float64\n",
            "euribor3m                        41188 non-null float64\n",
            "nr.employed                      41188 non-null float64\n",
            "education_un                     41188 non-null int64\n",
            "job_un                           41188 non-null int64\n",
            "housing_un                       41188 non-null int64\n",
            "loan_un                          41188 non-null int64\n",
            "p_miss                           41188 non-null int64\n",
            "p_less_5                         41188 non-null int64\n",
            "p_great_15                       41188 non-null int64\n",
            "p_bet_5_15                       41188 non-null int64\n",
            "job_admin.                       41188 non-null uint8\n",
            "job_blue-collar                  41188 non-null uint8\n",
            "job_entrepreneur                 41188 non-null uint8\n",
            "job_housemaid                    41188 non-null uint8\n",
            "job_management                   41188 non-null uint8\n",
            "job_retired                      41188 non-null uint8\n",
            "job_self-employed                41188 non-null uint8\n",
            "job_services                     41188 non-null uint8\n",
            "job_student                      41188 non-null uint8\n",
            "job_technician                   41188 non-null uint8\n",
            "job_unemployed                   41188 non-null uint8\n",
            "job_unknown                      41188 non-null uint8\n",
            "marital_divorced                 41188 non-null uint8\n",
            "marital_married                  41188 non-null uint8\n",
            "marital_single                   41188 non-null uint8\n",
            "marital_unknown                  41188 non-null uint8\n",
            "education_basic.4y               41188 non-null uint8\n",
            "education_basic.6y               41188 non-null uint8\n",
            "education_basic.9y               41188 non-null uint8\n",
            "education_high.school            41188 non-null uint8\n",
            "education_illiterate             41188 non-null uint8\n",
            "education_professional.course    41188 non-null uint8\n",
            "education_university.degree      41188 non-null uint8\n",
            "education_unknown                41188 non-null uint8\n",
            "default_no                       41188 non-null uint8\n",
            "default_unknown                  41188 non-null uint8\n",
            "default_yes                      41188 non-null uint8\n",
            "housing_no                       41188 non-null uint8\n",
            "housing_unknown                  41188 non-null uint8\n",
            "housing_yes                      41188 non-null uint8\n",
            "loan_no                          41188 non-null uint8\n",
            "loan_unknown                     41188 non-null uint8\n",
            "loan_yes                         41188 non-null uint8\n",
            "contact_cellular                 41188 non-null uint8\n",
            "contact_telephone                41188 non-null uint8\n",
            "month_apr                        41188 non-null uint8\n",
            "month_aug                        41188 non-null uint8\n",
            "month_dec                        41188 non-null uint8\n",
            "month_jul                        41188 non-null uint8\n",
            "month_jun                        41188 non-null uint8\n",
            "month_mar                        41188 non-null uint8\n",
            "month_may                        41188 non-null uint8\n",
            "month_nov                        41188 non-null uint8\n",
            "month_oct                        41188 non-null uint8\n",
            "month_sep                        41188 non-null uint8\n",
            "day_of_week_fri                  41188 non-null uint8\n",
            "day_of_week_mon                  41188 non-null uint8\n",
            "day_of_week_thu                  41188 non-null uint8\n",
            "day_of_week_tue                  41188 non-null uint8\n",
            "day_of_week_wed                  41188 non-null uint8\n",
            "poutcome_failure                 41188 non-null uint8\n",
            "poutcome_nonexistent             41188 non-null uint8\n",
            "poutcome_success                 41188 non-null uint8\n",
            "y_no                             41188 non-null uint8\n",
            "y_yes                            41188 non-null uint8\n",
            "dtypes: float64(5), int64(12), uint8(55)\n",
            "memory usage: 7.5 MB\n"
          ],
          "name": "stdout"
        }
      ]
    },
    {
      "cell_type": "markdown",
      "metadata": {
        "id": "qYFJui60KRXc",
        "colab_type": "text"
      },
      "source": [
        "For any matrix-based regression , Singular Matrices always throw an error in Python . Therefore, had to throw one of the columns away while creating dummy variables. We will still be able to infer the missing category from the remaining variables."
      ]
    },
    {
      "cell_type": "code",
      "metadata": {
        "id": "pV_35sDEKP_S",
        "colab_type": "code",
        "outputId": "98fe0d36-d2a9-4482-c1bf-54cdab6bd3e4",
        "colab": {
          "base_uri": "https://localhost:8080/",
          "height": 232
        }
      },
      "source": [
        "def dropfeature(df,f):\n",
        "    \"\"\"Drops one of the dummy variables.\"\"\"\n",
        "    df=df.drop(f,axis=1)\n",
        "    return df\n",
        "features_dropped = ['default_no','housing_no','loan_no','y_no','marital_single','contact_cellular',\n",
        "                    'education_unknown','job_unknown','housing_unknown','loan_unknown', 'p_less_5']\n",
        "df1 = dropfeature(dummies, features_dropped)\n",
        "df1.sample(5)"
      ],
      "execution_count": 57,
      "outputs": [
        {
          "output_type": "execute_result",
          "data": {
            "text/html": [
              "<div>\n",
              "<style scoped>\n",
              "    .dataframe tbody tr th:only-of-type {\n",
              "        vertical-align: middle;\n",
              "    }\n",
              "\n",
              "    .dataframe tbody tr th {\n",
              "        vertical-align: top;\n",
              "    }\n",
              "\n",
              "    .dataframe thead th {\n",
              "        text-align: right;\n",
              "    }\n",
              "</style>\n",
              "<table border=\"1\" class=\"dataframe\">\n",
              "  <thead>\n",
              "    <tr style=\"text-align: right;\">\n",
              "      <th></th>\n",
              "      <th>age</th>\n",
              "      <th>duration</th>\n",
              "      <th>campaign</th>\n",
              "      <th>previous</th>\n",
              "      <th>emp.var.rate</th>\n",
              "      <th>cons.price.idx</th>\n",
              "      <th>cons.conf.idx</th>\n",
              "      <th>euribor3m</th>\n",
              "      <th>nr.employed</th>\n",
              "      <th>education_un</th>\n",
              "      <th>job_un</th>\n",
              "      <th>housing_un</th>\n",
              "      <th>loan_un</th>\n",
              "      <th>p_miss</th>\n",
              "      <th>p_great_15</th>\n",
              "      <th>p_bet_5_15</th>\n",
              "      <th>job_admin.</th>\n",
              "      <th>job_blue-collar</th>\n",
              "      <th>job_entrepreneur</th>\n",
              "      <th>job_housemaid</th>\n",
              "      <th>job_management</th>\n",
              "      <th>job_retired</th>\n",
              "      <th>job_self-employed</th>\n",
              "      <th>job_services</th>\n",
              "      <th>job_student</th>\n",
              "      <th>job_technician</th>\n",
              "      <th>job_unemployed</th>\n",
              "      <th>marital_divorced</th>\n",
              "      <th>marital_married</th>\n",
              "      <th>marital_unknown</th>\n",
              "      <th>education_basic.4y</th>\n",
              "      <th>education_basic.6y</th>\n",
              "      <th>education_basic.9y</th>\n",
              "      <th>education_high.school</th>\n",
              "      <th>education_illiterate</th>\n",
              "      <th>education_professional.course</th>\n",
              "      <th>education_university.degree</th>\n",
              "      <th>default_unknown</th>\n",
              "      <th>default_yes</th>\n",
              "      <th>housing_yes</th>\n",
              "      <th>loan_yes</th>\n",
              "      <th>contact_telephone</th>\n",
              "      <th>month_apr</th>\n",
              "      <th>month_aug</th>\n",
              "      <th>month_dec</th>\n",
              "      <th>month_jul</th>\n",
              "      <th>month_jun</th>\n",
              "      <th>month_mar</th>\n",
              "      <th>month_may</th>\n",
              "      <th>month_nov</th>\n",
              "      <th>month_oct</th>\n",
              "      <th>month_sep</th>\n",
              "      <th>day_of_week_fri</th>\n",
              "      <th>day_of_week_mon</th>\n",
              "      <th>day_of_week_thu</th>\n",
              "      <th>day_of_week_tue</th>\n",
              "      <th>day_of_week_wed</th>\n",
              "      <th>poutcome_failure</th>\n",
              "      <th>poutcome_nonexistent</th>\n",
              "      <th>poutcome_success</th>\n",
              "      <th>y_yes</th>\n",
              "    </tr>\n",
              "  </thead>\n",
              "  <tbody>\n",
              "    <tr>\n",
              "      <th>30553</th>\n",
              "      <td>31</td>\n",
              "      <td>220</td>\n",
              "      <td>4</td>\n",
              "      <td>0</td>\n",
              "      <td>-1.8</td>\n",
              "      <td>92.893</td>\n",
              "      <td>-46.2</td>\n",
              "      <td>1.354</td>\n",
              "      <td>5099.1</td>\n",
              "      <td>0</td>\n",
              "      <td>0</td>\n",
              "      <td>0</td>\n",
              "      <td>0</td>\n",
              "      <td>1</td>\n",
              "      <td>0</td>\n",
              "      <td>0</td>\n",
              "      <td>0</td>\n",
              "      <td>0</td>\n",
              "      <td>0</td>\n",
              "      <td>0</td>\n",
              "      <td>0</td>\n",
              "      <td>0</td>\n",
              "      <td>0</td>\n",
              "      <td>0</td>\n",
              "      <td>0</td>\n",
              "      <td>1</td>\n",
              "      <td>0</td>\n",
              "      <td>0</td>\n",
              "      <td>0</td>\n",
              "      <td>0</td>\n",
              "      <td>0</td>\n",
              "      <td>0</td>\n",
              "      <td>0</td>\n",
              "      <td>0</td>\n",
              "      <td>0</td>\n",
              "      <td>0</td>\n",
              "      <td>1</td>\n",
              "      <td>0</td>\n",
              "      <td>0</td>\n",
              "      <td>0</td>\n",
              "      <td>0</td>\n",
              "      <td>0</td>\n",
              "      <td>0</td>\n",
              "      <td>0</td>\n",
              "      <td>0</td>\n",
              "      <td>0</td>\n",
              "      <td>0</td>\n",
              "      <td>0</td>\n",
              "      <td>1</td>\n",
              "      <td>0</td>\n",
              "      <td>0</td>\n",
              "      <td>0</td>\n",
              "      <td>0</td>\n",
              "      <td>1</td>\n",
              "      <td>0</td>\n",
              "      <td>0</td>\n",
              "      <td>0</td>\n",
              "      <td>0</td>\n",
              "      <td>1</td>\n",
              "      <td>0</td>\n",
              "      <td>0</td>\n",
              "    </tr>\n",
              "    <tr>\n",
              "      <th>7925</th>\n",
              "      <td>41</td>\n",
              "      <td>312</td>\n",
              "      <td>1</td>\n",
              "      <td>0</td>\n",
              "      <td>1.4</td>\n",
              "      <td>94.465</td>\n",
              "      <td>-41.8</td>\n",
              "      <td>4.865</td>\n",
              "      <td>5228.1</td>\n",
              "      <td>0</td>\n",
              "      <td>0</td>\n",
              "      <td>0</td>\n",
              "      <td>0</td>\n",
              "      <td>1</td>\n",
              "      <td>0</td>\n",
              "      <td>0</td>\n",
              "      <td>0</td>\n",
              "      <td>0</td>\n",
              "      <td>0</td>\n",
              "      <td>0</td>\n",
              "      <td>0</td>\n",
              "      <td>0</td>\n",
              "      <td>0</td>\n",
              "      <td>1</td>\n",
              "      <td>0</td>\n",
              "      <td>0</td>\n",
              "      <td>0</td>\n",
              "      <td>1</td>\n",
              "      <td>0</td>\n",
              "      <td>0</td>\n",
              "      <td>0</td>\n",
              "      <td>0</td>\n",
              "      <td>1</td>\n",
              "      <td>0</td>\n",
              "      <td>0</td>\n",
              "      <td>0</td>\n",
              "      <td>0</td>\n",
              "      <td>0</td>\n",
              "      <td>0</td>\n",
              "      <td>1</td>\n",
              "      <td>0</td>\n",
              "      <td>1</td>\n",
              "      <td>0</td>\n",
              "      <td>0</td>\n",
              "      <td>0</td>\n",
              "      <td>0</td>\n",
              "      <td>1</td>\n",
              "      <td>0</td>\n",
              "      <td>0</td>\n",
              "      <td>0</td>\n",
              "      <td>0</td>\n",
              "      <td>0</td>\n",
              "      <td>0</td>\n",
              "      <td>1</td>\n",
              "      <td>0</td>\n",
              "      <td>0</td>\n",
              "      <td>0</td>\n",
              "      <td>0</td>\n",
              "      <td>1</td>\n",
              "      <td>0</td>\n",
              "      <td>0</td>\n",
              "    </tr>\n",
              "    <tr>\n",
              "      <th>14582</th>\n",
              "      <td>26</td>\n",
              "      <td>878</td>\n",
              "      <td>2</td>\n",
              "      <td>0</td>\n",
              "      <td>1.4</td>\n",
              "      <td>93.918</td>\n",
              "      <td>-42.7</td>\n",
              "      <td>4.961</td>\n",
              "      <td>5228.1</td>\n",
              "      <td>0</td>\n",
              "      <td>0</td>\n",
              "      <td>0</td>\n",
              "      <td>0</td>\n",
              "      <td>1</td>\n",
              "      <td>0</td>\n",
              "      <td>0</td>\n",
              "      <td>1</td>\n",
              "      <td>0</td>\n",
              "      <td>0</td>\n",
              "      <td>0</td>\n",
              "      <td>0</td>\n",
              "      <td>0</td>\n",
              "      <td>0</td>\n",
              "      <td>0</td>\n",
              "      <td>0</td>\n",
              "      <td>0</td>\n",
              "      <td>0</td>\n",
              "      <td>0</td>\n",
              "      <td>1</td>\n",
              "      <td>0</td>\n",
              "      <td>0</td>\n",
              "      <td>0</td>\n",
              "      <td>1</td>\n",
              "      <td>0</td>\n",
              "      <td>0</td>\n",
              "      <td>0</td>\n",
              "      <td>0</td>\n",
              "      <td>0</td>\n",
              "      <td>0</td>\n",
              "      <td>0</td>\n",
              "      <td>0</td>\n",
              "      <td>0</td>\n",
              "      <td>0</td>\n",
              "      <td>0</td>\n",
              "      <td>0</td>\n",
              "      <td>1</td>\n",
              "      <td>0</td>\n",
              "      <td>0</td>\n",
              "      <td>0</td>\n",
              "      <td>0</td>\n",
              "      <td>0</td>\n",
              "      <td>0</td>\n",
              "      <td>0</td>\n",
              "      <td>0</td>\n",
              "      <td>0</td>\n",
              "      <td>1</td>\n",
              "      <td>0</td>\n",
              "      <td>0</td>\n",
              "      <td>1</td>\n",
              "      <td>0</td>\n",
              "      <td>1</td>\n",
              "    </tr>\n",
              "    <tr>\n",
              "      <th>17721</th>\n",
              "      <td>41</td>\n",
              "      <td>99</td>\n",
              "      <td>6</td>\n",
              "      <td>0</td>\n",
              "      <td>1.4</td>\n",
              "      <td>93.918</td>\n",
              "      <td>-42.7</td>\n",
              "      <td>4.961</td>\n",
              "      <td>5228.1</td>\n",
              "      <td>1</td>\n",
              "      <td>0</td>\n",
              "      <td>0</td>\n",
              "      <td>0</td>\n",
              "      <td>1</td>\n",
              "      <td>0</td>\n",
              "      <td>0</td>\n",
              "      <td>0</td>\n",
              "      <td>0</td>\n",
              "      <td>0</td>\n",
              "      <td>0</td>\n",
              "      <td>0</td>\n",
              "      <td>0</td>\n",
              "      <td>0</td>\n",
              "      <td>1</td>\n",
              "      <td>0</td>\n",
              "      <td>0</td>\n",
              "      <td>0</td>\n",
              "      <td>0</td>\n",
              "      <td>1</td>\n",
              "      <td>0</td>\n",
              "      <td>0</td>\n",
              "      <td>0</td>\n",
              "      <td>0</td>\n",
              "      <td>1</td>\n",
              "      <td>0</td>\n",
              "      <td>0</td>\n",
              "      <td>0</td>\n",
              "      <td>0</td>\n",
              "      <td>0</td>\n",
              "      <td>0</td>\n",
              "      <td>0</td>\n",
              "      <td>0</td>\n",
              "      <td>0</td>\n",
              "      <td>0</td>\n",
              "      <td>0</td>\n",
              "      <td>1</td>\n",
              "      <td>0</td>\n",
              "      <td>0</td>\n",
              "      <td>0</td>\n",
              "      <td>0</td>\n",
              "      <td>0</td>\n",
              "      <td>0</td>\n",
              "      <td>0</td>\n",
              "      <td>0</td>\n",
              "      <td>0</td>\n",
              "      <td>1</td>\n",
              "      <td>0</td>\n",
              "      <td>0</td>\n",
              "      <td>1</td>\n",
              "      <td>0</td>\n",
              "      <td>0</td>\n",
              "    </tr>\n",
              "    <tr>\n",
              "      <th>16322</th>\n",
              "      <td>36</td>\n",
              "      <td>864</td>\n",
              "      <td>4</td>\n",
              "      <td>0</td>\n",
              "      <td>1.4</td>\n",
              "      <td>93.918</td>\n",
              "      <td>-42.7</td>\n",
              "      <td>4.961</td>\n",
              "      <td>5228.1</td>\n",
              "      <td>0</td>\n",
              "      <td>0</td>\n",
              "      <td>0</td>\n",
              "      <td>0</td>\n",
              "      <td>1</td>\n",
              "      <td>0</td>\n",
              "      <td>0</td>\n",
              "      <td>0</td>\n",
              "      <td>1</td>\n",
              "      <td>0</td>\n",
              "      <td>0</td>\n",
              "      <td>0</td>\n",
              "      <td>0</td>\n",
              "      <td>0</td>\n",
              "      <td>0</td>\n",
              "      <td>0</td>\n",
              "      <td>0</td>\n",
              "      <td>0</td>\n",
              "      <td>0</td>\n",
              "      <td>1</td>\n",
              "      <td>0</td>\n",
              "      <td>0</td>\n",
              "      <td>1</td>\n",
              "      <td>0</td>\n",
              "      <td>0</td>\n",
              "      <td>0</td>\n",
              "      <td>0</td>\n",
              "      <td>0</td>\n",
              "      <td>0</td>\n",
              "      <td>0</td>\n",
              "      <td>1</td>\n",
              "      <td>0</td>\n",
              "      <td>0</td>\n",
              "      <td>0</td>\n",
              "      <td>0</td>\n",
              "      <td>0</td>\n",
              "      <td>1</td>\n",
              "      <td>0</td>\n",
              "      <td>0</td>\n",
              "      <td>0</td>\n",
              "      <td>0</td>\n",
              "      <td>0</td>\n",
              "      <td>0</td>\n",
              "      <td>0</td>\n",
              "      <td>0</td>\n",
              "      <td>0</td>\n",
              "      <td>1</td>\n",
              "      <td>0</td>\n",
              "      <td>0</td>\n",
              "      <td>1</td>\n",
              "      <td>0</td>\n",
              "      <td>1</td>\n",
              "    </tr>\n",
              "  </tbody>\n",
              "</table>\n",
              "</div>"
            ],
            "text/plain": [
              "       age  duration  campaign  ...  poutcome_nonexistent  poutcome_success  y_yes\n",
              "30553   31       220         4  ...                     1                 0      0\n",
              "7925    41       312         1  ...                     1                 0      0\n",
              "14582   26       878         2  ...                     1                 0      1\n",
              "17721   41        99         6  ...                     1                 0      0\n",
              "16322   36       864         4  ...                     1                 0      1\n",
              "\n",
              "[5 rows x 61 columns]"
            ]
          },
          "metadata": {
            "tags": []
          },
          "execution_count": 57
        }
      ]
    },
    {
      "cell_type": "code",
      "metadata": {
        "id": "gX-8k-F_vqEG",
        "colab_type": "code",
        "outputId": "167b3296-36f8-47f3-b574-cd78e5d7b49a",
        "colab": {
          "base_uri": "https://localhost:8080/",
          "height": 1000
        }
      },
      "source": [
        "df1.info()"
      ],
      "execution_count": 23,
      "outputs": [
        {
          "output_type": "stream",
          "text": [
            "<class 'pandas.core.frame.DataFrame'>\n",
            "RangeIndex: 41188 entries, 0 to 41187\n",
            "Data columns (total 61 columns):\n",
            "age                              41188 non-null int64\n",
            "duration                         41188 non-null int64\n",
            "campaign                         41188 non-null int64\n",
            "previous                         41188 non-null int64\n",
            "emp.var.rate                     41188 non-null float64\n",
            "cons.price.idx                   41188 non-null float64\n",
            "cons.conf.idx                    41188 non-null float64\n",
            "euribor3m                        41188 non-null float64\n",
            "nr.employed                      41188 non-null float64\n",
            "education_un                     41188 non-null int64\n",
            "job_un                           41188 non-null int64\n",
            "housing_un                       41188 non-null int64\n",
            "loan_un                          41188 non-null int64\n",
            "p_miss                           41188 non-null int64\n",
            "p_great_15                       41188 non-null int64\n",
            "p_bet_5_15                       41188 non-null int64\n",
            "job_admin.                       41188 non-null uint8\n",
            "job_blue-collar                  41188 non-null uint8\n",
            "job_entrepreneur                 41188 non-null uint8\n",
            "job_housemaid                    41188 non-null uint8\n",
            "job_management                   41188 non-null uint8\n",
            "job_retired                      41188 non-null uint8\n",
            "job_self-employed                41188 non-null uint8\n",
            "job_services                     41188 non-null uint8\n",
            "job_student                      41188 non-null uint8\n",
            "job_technician                   41188 non-null uint8\n",
            "job_unemployed                   41188 non-null uint8\n",
            "marital_divorced                 41188 non-null uint8\n",
            "marital_married                  41188 non-null uint8\n",
            "marital_unknown                  41188 non-null uint8\n",
            "education_basic.4y               41188 non-null uint8\n",
            "education_basic.6y               41188 non-null uint8\n",
            "education_basic.9y               41188 non-null uint8\n",
            "education_high.school            41188 non-null uint8\n",
            "education_illiterate             41188 non-null uint8\n",
            "education_professional.course    41188 non-null uint8\n",
            "education_university.degree      41188 non-null uint8\n",
            "default_unknown                  41188 non-null uint8\n",
            "default_yes                      41188 non-null uint8\n",
            "housing_yes                      41188 non-null uint8\n",
            "loan_yes                         41188 non-null uint8\n",
            "contact_telephone                41188 non-null uint8\n",
            "month_apr                        41188 non-null uint8\n",
            "month_aug                        41188 non-null uint8\n",
            "month_dec                        41188 non-null uint8\n",
            "month_jul                        41188 non-null uint8\n",
            "month_jun                        41188 non-null uint8\n",
            "month_mar                        41188 non-null uint8\n",
            "month_may                        41188 non-null uint8\n",
            "month_nov                        41188 non-null uint8\n",
            "month_oct                        41188 non-null uint8\n",
            "month_sep                        41188 non-null uint8\n",
            "day_of_week_fri                  41188 non-null uint8\n",
            "day_of_week_mon                  41188 non-null uint8\n",
            "day_of_week_thu                  41188 non-null uint8\n",
            "day_of_week_tue                  41188 non-null uint8\n",
            "day_of_week_wed                  41188 non-null uint8\n",
            "poutcome_failure                 41188 non-null uint8\n",
            "poutcome_nonexistent             41188 non-null uint8\n",
            "poutcome_success                 41188 non-null uint8\n",
            "y_yes                            41188 non-null uint8\n",
            "dtypes: float64(5), int64(11), uint8(45)\n",
            "memory usage: 6.8 MB\n"
          ],
          "name": "stdout"
        }
      ]
    },
    {
      "cell_type": "markdown",
      "metadata": {
        "id": "tAaoNTbAMUo6",
        "colab_type": "text"
      },
      "source": [
        "## Model Building and Evaluation\n",
        "In general, algorithms that exploit distances or similarities (e.g. in form of scalar product) between data samples, such as k-NN and SVM, are sensitive to feature transformations. Though graphical-model based classifiers, such as Fisher LDA or Naive Bayes, Decision trees and Tree-based ensemble methods (RF, XGB) are invariant to feature scaling, but still it might be a good idea to rescale/standartise the data.\n"
      ]
    },
    {
      "cell_type": "code",
      "metadata": {
        "id": "51--dhkfz4eI",
        "colab_type": "code",
        "colab": {}
      },
      "source": [
        "# Using the data frame where we had created dummy variables\n",
        "y = df1['y_yes'].values\n",
        "X = df1.drop(columns = ['y_yes'])"
      ],
      "execution_count": 0,
      "outputs": []
    },
    {
      "cell_type": "code",
      "metadata": {
        "id": "vNxlm5gM2fO9",
        "colab_type": "code",
        "outputId": "109e4a32-56d7-4ce0-d7e9-603a127355e8",
        "colab": {
          "base_uri": "https://localhost:8080/",
          "height": 1000
        }
      },
      "source": [
        "print(X.info())"
      ],
      "execution_count": 25,
      "outputs": [
        {
          "output_type": "stream",
          "text": [
            "<class 'pandas.core.frame.DataFrame'>\n",
            "RangeIndex: 41188 entries, 0 to 41187\n",
            "Data columns (total 60 columns):\n",
            "age                              41188 non-null int64\n",
            "duration                         41188 non-null int64\n",
            "campaign                         41188 non-null int64\n",
            "previous                         41188 non-null int64\n",
            "emp.var.rate                     41188 non-null float64\n",
            "cons.price.idx                   41188 non-null float64\n",
            "cons.conf.idx                    41188 non-null float64\n",
            "euribor3m                        41188 non-null float64\n",
            "nr.employed                      41188 non-null float64\n",
            "education_un                     41188 non-null int64\n",
            "job_un                           41188 non-null int64\n",
            "housing_un                       41188 non-null int64\n",
            "loan_un                          41188 non-null int64\n",
            "p_miss                           41188 non-null int64\n",
            "p_great_15                       41188 non-null int64\n",
            "p_bet_5_15                       41188 non-null int64\n",
            "job_admin.                       41188 non-null uint8\n",
            "job_blue-collar                  41188 non-null uint8\n",
            "job_entrepreneur                 41188 non-null uint8\n",
            "job_housemaid                    41188 non-null uint8\n",
            "job_management                   41188 non-null uint8\n",
            "job_retired                      41188 non-null uint8\n",
            "job_self-employed                41188 non-null uint8\n",
            "job_services                     41188 non-null uint8\n",
            "job_student                      41188 non-null uint8\n",
            "job_technician                   41188 non-null uint8\n",
            "job_unemployed                   41188 non-null uint8\n",
            "marital_divorced                 41188 non-null uint8\n",
            "marital_married                  41188 non-null uint8\n",
            "marital_unknown                  41188 non-null uint8\n",
            "education_basic.4y               41188 non-null uint8\n",
            "education_basic.6y               41188 non-null uint8\n",
            "education_basic.9y               41188 non-null uint8\n",
            "education_high.school            41188 non-null uint8\n",
            "education_illiterate             41188 non-null uint8\n",
            "education_professional.course    41188 non-null uint8\n",
            "education_university.degree      41188 non-null uint8\n",
            "default_unknown                  41188 non-null uint8\n",
            "default_yes                      41188 non-null uint8\n",
            "housing_yes                      41188 non-null uint8\n",
            "loan_yes                         41188 non-null uint8\n",
            "contact_telephone                41188 non-null uint8\n",
            "month_apr                        41188 non-null uint8\n",
            "month_aug                        41188 non-null uint8\n",
            "month_dec                        41188 non-null uint8\n",
            "month_jul                        41188 non-null uint8\n",
            "month_jun                        41188 non-null uint8\n",
            "month_mar                        41188 non-null uint8\n",
            "month_may                        41188 non-null uint8\n",
            "month_nov                        41188 non-null uint8\n",
            "month_oct                        41188 non-null uint8\n",
            "month_sep                        41188 non-null uint8\n",
            "day_of_week_fri                  41188 non-null uint8\n",
            "day_of_week_mon                  41188 non-null uint8\n",
            "day_of_week_thu                  41188 non-null uint8\n",
            "day_of_week_tue                  41188 non-null uint8\n",
            "day_of_week_wed                  41188 non-null uint8\n",
            "poutcome_failure                 41188 non-null uint8\n",
            "poutcome_nonexistent             41188 non-null uint8\n",
            "poutcome_success                 41188 non-null uint8\n",
            "dtypes: float64(5), int64(11), uint8(44)\n",
            "memory usage: 6.8 MB\n",
            "None\n"
          ],
          "name": "stdout"
        }
      ]
    },
    {
      "cell_type": "code",
      "metadata": {
        "id": "y1FfyhtJ2re1",
        "colab_type": "code",
        "outputId": "75a2b52a-a27b-4ac2-b053-7667bd2558ea",
        "colab": {
          "base_uri": "https://localhost:8080/",
          "height": 34
        }
      },
      "source": [
        "y"
      ],
      "execution_count": 26,
      "outputs": [
        {
          "output_type": "execute_result",
          "data": {
            "text/plain": [
              "array([0, 0, 0, ..., 0, 1, 0], dtype=uint8)"
            ]
          },
          "metadata": {
            "tags": []
          },
          "execution_count": 26
        }
      ]
    },
    {
      "cell_type": "code",
      "metadata": {
        "id": "cXE8PrKHzevA",
        "colab_type": "code",
        "outputId": "b09e27c8-03dd-40db-931d-332694406105",
        "colab": {
          "base_uri": "https://localhost:8080/",
          "height": 437
        }
      },
      "source": [
        "# Rescale data (between 0 and 1)\n",
        "import pandas\n",
        "import scipy\n",
        "import numpy\n",
        "from sklearn.preprocessing import MinMaxScaler\n",
        "scaler = MinMaxScaler(feature_range=(0, 1))\n",
        "rescaledX = scaler.fit_transform(X)\n",
        "# summarise transformed data\n",
        "numpy.set_printoptions(precision=3)\n",
        "print(rescaledX[0:5,:])"
      ],
      "execution_count": 27,
      "outputs": [
        {
          "output_type": "stream",
          "text": [
            "[[0.481 0.053 0.    0.    0.938 0.699 0.603 0.957 0.86  0.    0.    0.\n",
            "  0.    1.    0.    0.    0.    0.    0.    1.    0.    0.    0.    0.\n",
            "  0.    0.    0.    0.    1.    0.    1.    0.    0.    0.    0.    0.\n",
            "  0.    0.    0.    0.    0.    1.    0.    0.    0.    0.    0.    0.\n",
            "  1.    0.    0.    0.    0.    1.    0.    0.    0.    0.    1.    0.   ]\n",
            " [0.494 0.03  0.    0.    0.938 0.699 0.603 0.957 0.86  0.    0.    0.\n",
            "  0.    1.    0.    0.    0.    0.    0.    0.    0.    0.    0.    1.\n",
            "  0.    0.    0.    0.    1.    0.    0.    0.    0.    1.    0.    0.\n",
            "  0.    1.    0.    0.    0.    1.    0.    0.    0.    0.    0.    0.\n",
            "  1.    0.    0.    0.    0.    1.    0.    0.    0.    0.    1.    0.   ]\n",
            " [0.247 0.046 0.    0.    0.938 0.699 0.603 0.957 0.86  0.    0.    0.\n",
            "  0.    1.    0.    0.    0.    0.    0.    0.    0.    0.    0.    1.\n",
            "  0.    0.    0.    0.    1.    0.    0.    0.    0.    1.    0.    0.\n",
            "  0.    0.    0.    1.    0.    1.    0.    0.    0.    0.    0.    0.\n",
            "  1.    0.    0.    0.    0.    1.    0.    0.    0.    0.    1.    0.   ]\n",
            " [0.284 0.031 0.    0.    0.938 0.699 0.603 0.957 0.86  0.    0.    0.\n",
            "  0.    1.    0.    0.    1.    0.    0.    0.    0.    0.    0.    0.\n",
            "  0.    0.    0.    0.    1.    0.    0.    1.    0.    0.    0.    0.\n",
            "  0.    0.    0.    0.    0.    1.    0.    0.    0.    0.    0.    0.\n",
            "  1.    0.    0.    0.    0.    1.    0.    0.    0.    0.    1.    0.   ]\n",
            " [0.481 0.062 0.    0.    0.938 0.699 0.603 0.957 0.86  0.    0.    0.\n",
            "  0.    1.    0.    0.    0.    0.    0.    0.    0.    0.    0.    1.\n",
            "  0.    0.    0.    0.    1.    0.    0.    0.    0.    1.    0.    0.\n",
            "  0.    0.    0.    0.    1.    1.    0.    0.    0.    0.    0.    0.\n",
            "  1.    0.    0.    0.    0.    1.    0.    0.    0.    0.    1.    0.   ]]\n"
          ],
          "name": "stdout"
        }
      ]
    },
    {
      "cell_type": "code",
      "metadata": {
        "id": "RnoZcscrMdbN",
        "colab_type": "code",
        "colab": {}
      },
      "source": [
        "from sklearn.model_selection import KFold\n",
        "from sklearn.model_selection import cross_val_score\n",
        "from sklearn.model_selection import train_test_split\n",
        "\n",
        "# split data into train and test sets\n",
        "seed = 123\n",
        "test_size = 0.33\n",
        "X_train, X_test, y_train, y_test = train_test_split(X, y, test_size=test_size, random_state=seed)\n"
      ],
      "execution_count": 0,
      "outputs": []
    },
    {
      "cell_type": "markdown",
      "metadata": {
        "id": "zmofT5Ff9dqU",
        "colab_type": "text"
      },
      "source": [
        "A number of ML algorithm can be ussed for model developement. I will do an algorithm comparison to check which classifier prduces best score on training data.\n",
        "### Avoiding Overfitting\n",
        "An error in the modeling algorithm that takes into consideration random noise in the fitting process rather than the pattern itself. This occurs when the model gets an excellent score in the training set but poor score on test data. This is likely to happen because of overfitting of the data (taking into consideration random noise in the pattern). The model should take the overall pattern of the data in order to correctly classify whether a potential client will suscribe to a term deposit or not. To avoid overfitting I have used cross validation. This algorithm will iterate through all the training and test sets and the main purpose of this is to grab the overall pattern of the data."
      ]
    },
    {
      "cell_type": "code",
      "metadata": {
        "id": "eAUj9wUQ5UuU",
        "colab_type": "code",
        "outputId": "d78c024e-f628-4ec0-f73c-3d97d4148763",
        "colab": {
          "base_uri": "https://localhost:8080/",
          "height": 501
        }
      },
      "source": [
        "import time\n",
        "\n",
        "from matplotlib import pyplot\n",
        "from sklearn.linear_model import LogisticRegression\n",
        "from sklearn.neighbors import KNeighborsClassifier\n",
        "from sklearn import tree\n",
        "from sklearn.neighbors import KNeighborsClassifier\n",
        "from sklearn.ensemble import GradientBoostingClassifier\n",
        "from sklearn.ensemble import RandomForestClassifier\n",
        "from xgboost import XGBClassifier\n",
        "\n",
        "# prepare models\n",
        "models = []\n",
        "models.append(( ' LR ' , LogisticRegression(solver='lbfgs', max_iter=5000)))\n",
        "models.append(( ' GBC ' , GradientBoostingClassifier()))\n",
        "models.append(( ' KNN ' , KNeighborsClassifier()))\n",
        "models.append(( ' RF ' , RandomForestClassifier(n_estimators=60)))\n",
        "models.append(( ' XGB ' , XGBClassifier()))\n",
        "\n",
        "# evaluate each model in turn\n",
        "results = []\n",
        "names = []\n",
        "scoring = 'accuracy'\n",
        "for name, model in models:\n",
        "    kfold = KFold(n_splits=10, random_state=seed)\n",
        "    cv_results = cross_val_score(model, X_train, y_train, cv=kfold, scoring=scoring)\n",
        "    results.append(cv_results)\n",
        "    names.append(name)\n",
        "    msg = \"%s: %f (%f)\" % (name, cv_results.mean(), cv_results.std())\n",
        "    print(msg)\n",
        "    \n",
        "# boxplot algorithm comparison\n",
        "fig = pyplot.figure()\n",
        "fig.suptitle('Algorithm Comparison')\n",
        "ax = fig.add_subplot(111)\n",
        "pyplot.boxplot(results)\n",
        "ax.set_xticklabels(names)\n",
        "pyplot.show()"
      ],
      "execution_count": 29,
      "outputs": [
        {
          "output_type": "stream",
          "text": [
            " LR : 0.910165 (0.003969)\n",
            " GBC : 0.916543 (0.002792)\n",
            " KNN : 0.902084 (0.003413)\n",
            " RF : 0.911977 (0.003775)\n",
            " XGB : 0.916833 (0.004097)\n"
          ],
          "name": "stdout"
        },
        {
          "output_type": "display_data",
          "data": {
            "image/png": "[encoded data removed]",
            "text/plain": [
              "<Figure size 720x432 with 1 Axes>"
            ]
          },
          "metadata": {
            "tags": []
          }
        }
      ]
    },
    {
      "cell_type": "markdown",
      "metadata": {
        "id": "N1YXOEQVCN6d",
        "colab_type": "text"
      },
      "source": [
        "## Simple Ensemble technique\n",
        "### Max Voting"
      ]
    },
    {
      "cell_type": "code",
      "metadata": {
        "id": "fDJsZVuOAAH5",
        "colab_type": "code",
        "colab": {}
      },
      "source": [
        "from sklearn.ensemble import VotingClassifier\n",
        "model1 = LogisticRegression(solver='lbfgs', max_iter=5000)\n",
        "model2 = GradientBoostingClassifier()\n",
        "model3 = KNeighborsClassifier()\n",
        "model4 = RandomForestClassifier(n_estimators=60)\n",
        "model5 = XGBClassifier()\n",
        "model = VotingClassifier(estimators=[('LR', model1), ('GBC', model2), ('kNN', model3), \n",
        "                                    ('RF', model4), ('XGB', model5)], voting='hard')\n",
        "\n",
        "\n"
      ],
      "execution_count": 0,
      "outputs": []
    },
    {
      "cell_type": "code",
      "metadata": {
        "id": "nkkWUEdDB496",
        "colab_type": "code",
        "colab": {
          "base_uri": "https://localhost:8080/",
          "height": 34
        },
        "outputId": "6752a90d-a0de-455c-cd1a-f585fdddcd74"
      },
      "source": [
        "model.fit(X_train,y_train)\n",
        "model.score(X_test,y_test)"
      ],
      "execution_count": 31,
      "outputs": [
        {
          "output_type": "execute_result",
          "data": {
            "text/plain": [
              "0.9153240638563966"
            ]
          },
          "metadata": {
            "tags": []
          },
          "execution_count": 31
        }
      ]
    },
    {
      "cell_type": "code",
      "metadata": {
        "id": "EOd2MO9XZxBb",
        "colab_type": "code",
        "colab": {
          "base_uri": "https://localhost:8080/",
          "height": 34
        },
        "outputId": "c12a6657-24a0-4a7f-8bfb-44b2e8cd4bda"
      },
      "source": [
        "# make predictions for test set\n",
        "y_pred = model5.predict(X_test)\n",
        "predictions = [round(value) for value in y_pred]\n",
        "\n",
        "accuracy = accuracy_score(y_test, predictions)\n",
        "print(\"Accuracy: %.2f%%\" % (accuracy * 100.0))"
      ],
      "execution_count": 69,
      "outputs": [
        {
          "output_type": "stream",
          "text": [
            "Accuracy: 91.50%\n"
          ],
          "name": "stdout"
        }
      ]
    },
    {
      "cell_type": "code",
      "metadata": {
        "id": "sDET6URAaIEh",
        "colab_type": "code",
        "colab": {
          "base_uri": "https://localhost:8080/",
          "height": 404
        },
        "outputId": "4ecd4fbf-7c19-4464-a4c7-943ac27bb852"
      },
      "source": [
        "from xgboost import plot_importance\n",
        "import matplotlib.pyplot as plt\n",
        "\n",
        "# plot feature importance\n",
        "plot_importance(model5)\n",
        "pyplot.show()"
      ],
      "execution_count": 72,
      "outputs": [
        {
          "output_type": "display_data",
          "data": {
            "image/png": "[encoded data removed]",
            "text/plain": [
              "<Figure size 720x432 with 1 Axes>"
            ]
          },
          "metadata": {
            "tags": []
          }
        }
      ]
    },
    {
      "cell_type": "code",
      "metadata": {
        "id": "MfewlFxyaiqS",
        "colab_type": "code",
        "colab": {
          "base_uri": "https://localhost:8080/",
          "height": 1000
        },
        "outputId": "081de921-436b-4e22-b640-8069b40f8659"
      },
      "source": [
        "from numpy import sort\n",
        "from sklearn.feature_selection import SelectFromModel\n",
        "\n",
        "thresholds = sort(model5.feature_importances_)\n",
        "for thresh in thresholds:\n",
        "    # select features using threshold\n",
        "    selection = SelectFromModel(model5, threshold=thresh, prefit=True)\n",
        "    select_X_train = selection.transform(X_train)\n",
        "    # train model\n",
        "    selection_model = XGBClassifier()\n",
        "    selection_model.fit(select_X_train, y_train)\n",
        "    # eval model\n",
        "    select_X_test = selection.transform(X_test)\n",
        "    y_pred = selection_model.predict(select_X_test)\n",
        "    predictions = [round(value) for value in y_pred]\n",
        "    accuracy = accuracy_score(y_test, predictions)\n",
        "    print(\"Thresh=%.3f, n=%d, Accuracy: %.2f%%\" % (thresh, select_X_train.shape[1], accuracy*100.0))\n"
      ],
      "execution_count": 75,
      "outputs": [
        {
          "output_type": "stream",
          "text": [
            "Thresh=0.000, n=60, Accuracy: 91.50%\n",
            "Thresh=0.000, n=60, Accuracy: 91.50%\n",
            "Thresh=0.000, n=60, Accuracy: 91.50%\n",
            "Thresh=0.000, n=60, Accuracy: 91.50%\n",
            "Thresh=0.000, n=60, Accuracy: 91.50%\n",
            "Thresh=0.000, n=60, Accuracy: 91.50%\n",
            "Thresh=0.000, n=60, Accuracy: 91.50%\n",
            "Thresh=0.000, n=60, Accuracy: 91.50%\n",
            "Thresh=0.000, n=60, Accuracy: 91.50%\n",
            "Thresh=0.000, n=60, Accuracy: 91.50%\n",
            "Thresh=0.000, n=60, Accuracy: 91.50%\n",
            "Thresh=0.000, n=60, Accuracy: 91.50%\n",
            "Thresh=0.000, n=60, Accuracy: 91.50%\n",
            "Thresh=0.000, n=60, Accuracy: 91.50%\n",
            "Thresh=0.000, n=60, Accuracy: 91.50%\n",
            "Thresh=0.000, n=60, Accuracy: 91.50%\n",
            "Thresh=0.000, n=60, Accuracy: 91.50%\n",
            "Thresh=0.000, n=60, Accuracy: 91.50%\n",
            "Thresh=0.000, n=60, Accuracy: 91.50%\n",
            "Thresh=0.000, n=60, Accuracy: 91.50%\n",
            "Thresh=0.000, n=60, Accuracy: 91.50%\n",
            "Thresh=0.000, n=60, Accuracy: 91.50%\n",
            "Thresh=0.000, n=60, Accuracy: 91.50%\n",
            "Thresh=0.000, n=60, Accuracy: 91.50%\n",
            "Thresh=0.000, n=60, Accuracy: 91.50%\n",
            "Thresh=0.000, n=60, Accuracy: 91.50%\n",
            "Thresh=0.000, n=60, Accuracy: 91.50%\n",
            "Thresh=0.000, n=60, Accuracy: 91.50%\n",
            "Thresh=0.000, n=60, Accuracy: 91.50%\n",
            "Thresh=0.000, n=31, Accuracy: 91.50%\n",
            "Thresh=0.001, n=30, Accuracy: 91.50%\n",
            "Thresh=0.001, n=29, Accuracy: 91.63%\n",
            "Thresh=0.005, n=28, Accuracy: 91.61%\n",
            "Thresh=0.005, n=27, Accuracy: 91.62%\n",
            "Thresh=0.005, n=26, Accuracy: 91.62%\n",
            "Thresh=0.007, n=25, Accuracy: 91.47%\n",
            "Thresh=0.007, n=24, Accuracy: 91.54%\n",
            "Thresh=0.007, n=23, Accuracy: 91.60%\n",
            "Thresh=0.008, n=22, Accuracy: 91.55%\n",
            "Thresh=0.009, n=21, Accuracy: 91.52%\n",
            "Thresh=0.009, n=20, Accuracy: 91.53%\n",
            "Thresh=0.010, n=19, Accuracy: 91.50%\n",
            "Thresh=0.010, n=18, Accuracy: 91.51%\n",
            "Thresh=0.011, n=17, Accuracy: 91.51%\n",
            "Thresh=0.012, n=16, Accuracy: 91.61%\n",
            "Thresh=0.015, n=15, Accuracy: 91.58%\n",
            "Thresh=0.015, n=14, Accuracy: 91.55%\n",
            "Thresh=0.016, n=13, Accuracy: 91.50%\n",
            "Thresh=0.016, n=12, Accuracy: 91.61%\n",
            "Thresh=0.018, n=11, Accuracy: 91.40%\n",
            "Thresh=0.023, n=10, Accuracy: 91.48%\n",
            "Thresh=0.023, n=9, Accuracy: 91.48%\n",
            "Thresh=0.033, n=8, Accuracy: 91.61%\n",
            "Thresh=0.035, n=7, Accuracy: 91.49%\n",
            "Thresh=0.040, n=6, Accuracy: 91.54%\n",
            "Thresh=0.040, n=5, Accuracy: 91.35%\n",
            "Thresh=0.043, n=4, Accuracy: 91.25%\n",
            "Thresh=0.054, n=3, Accuracy: 90.86%\n",
            "Thresh=0.116, n=2, Accuracy: 90.83%\n",
            "Thresh=0.410, n=1, Accuracy: 89.00%\n"
          ],
          "name": "stdout"
        }
      ]
    },
    {
      "cell_type": "markdown",
      "metadata": {
        "id": "ZtvSZOT0pUlr",
        "colab_type": "text"
      },
      "source": [
        "## Bagging"
      ]
    },
    {
      "cell_type": "code",
      "metadata": {
        "id": "XxQK7t1rc4DZ",
        "colab_type": "code",
        "colab": {
          "base_uri": "https://localhost:8080/",
          "height": 474
        },
        "outputId": "1c3a4d7c-fa97-4bc5-a5f2-3b5035b60276"
      },
      "source": [
        "from sklearn.ensemble import AdaBoostClassifier\n",
        "RANDOM_SEED = 123\n",
        "\n",
        "#Base Learners\n",
        "rf_clf = RandomForestClassifier(n_estimators=60)\n",
        "lr_clf = LogisticRegression(solver='lbfgs', max_iter=5000)\n",
        "knn_clf = KNeighborsClassifier()\n",
        "gbc_clf = GradientBoostingClassifier() \n",
        "xgb_clf = XGBClassifier()\n",
        "adab_clf = AdaBoostClassifier()\n",
        "\n",
        "classifier_array = [rf_clf, lr_clf, knn_clf, gbc_clf, xgb_clf, adab_clf]\n",
        "labels = [clf.__class__.__name__ for clf in classifier_array]\n",
        "\n",
        "normal_accuracy = []\n",
        "normal_std = []\n",
        "\n",
        "bagging_accuracy = []\n",
        "bagging_std = []\n",
        "\n",
        "for clf in classifier_array:\n",
        "    cv_scores = cross_val_score(clf, X_train, y_train, cv=10, n_jobs=-1)\n",
        "    bagging_clf = BaggingClassifier(clf, max_features=60, random_state=RANDOM_SEED)\n",
        "    bagging_scores = cross_val_score(bagging_clf, X_train, y_train, cv=10, n_jobs=-1)\n",
        "    \n",
        "    normal_accuracy.append(np.round(cv_scores.mean(),4))\n",
        "    normal_std.append(np.round(cv_scores.std(),4))\n",
        "    \n",
        "    bagging_accuracy.append(np.round(bagging_scores.mean(),4))\n",
        "    bagging_std.append(np.round(bagging_scores.std(),4))\n",
        "    \n",
        "    print(\"Accuracy: %0.4f (+/- %0.4f) [Normal %s]\" % (cv_scores.mean(), cv_scores.std(), clf.__class__.__name__))\n",
        "    print(\"Accuracy: %0.4f (+/- %0.4f) [Bagging %s]\\n\" % (bagging_scores.mean(), bagging_scores.std(), clf.__class__.__name__))"
      ],
      "execution_count": 87,
      "outputs": [
        {
          "output_type": "stream",
          "text": [
            "/usr/local/lib/python3.6/dist-packages/joblib/externals/loky/process_executor.py:706: UserWarning: A worker stopped while some jobs were given to the executor. This can be caused by a too short worker timeout or by a memory leak.\n",
            "  \"timeout or by a memory leak.\", UserWarning\n"
          ],
          "name": "stderr"
        },
        {
          "output_type": "stream",
          "text": [
            "Accuracy: 0.9129 (+/- 0.0044) [Normal RandomForestClassifier]\n",
            "Accuracy: 0.9135 (+/- 0.0040) [Bagging RandomForestClassifier]\n",
            "\n",
            "Accuracy: 0.9103 (+/- 0.0023) [Normal LogisticRegression]\n",
            "Accuracy: 0.9106 (+/- 0.0019) [Bagging LogisticRegression]\n",
            "\n"
          ],
          "name": "stdout"
        },
        {
          "output_type": "stream",
          "text": [
            "/usr/local/lib/python3.6/dist-packages/joblib/externals/loky/process_executor.py:706: UserWarning: A worker stopped while some jobs were given to the executor. This can be caused by a too short worker timeout or by a memory leak.\n",
            "  \"timeout or by a memory leak.\", UserWarning\n"
          ],
          "name": "stderr"
        },
        {
          "output_type": "stream",
          "text": [
            "Accuracy: 0.9021 (+/- 0.0039) [Normal KNeighborsClassifier]\n",
            "Accuracy: 0.9020 (+/- 0.0046) [Bagging KNeighborsClassifier]\n",
            "\n",
            "Accuracy: 0.9171 (+/- 0.0023) [Normal GradientBoostingClassifier]\n",
            "Accuracy: 0.9172 (+/- 0.0034) [Bagging GradientBoostingClassifier]\n",
            "\n"
          ],
          "name": "stdout"
        },
        {
          "output_type": "stream",
          "text": [
            "/usr/local/lib/python3.6/dist-packages/joblib/externals/loky/process_executor.py:706: UserWarning: A worker stopped while some jobs were given to the executor. This can be caused by a too short worker timeout or by a memory leak.\n",
            "  \"timeout or by a memory leak.\", UserWarning\n",
            "/usr/local/lib/python3.6/dist-packages/joblib/externals/loky/process_executor.py:706: UserWarning: A worker stopped while some jobs were given to the executor. This can be caused by a too short worker timeout or by a memory leak.\n",
            "  \"timeout or by a memory leak.\", UserWarning\n"
          ],
          "name": "stderr"
        },
        {
          "output_type": "stream",
          "text": [
            "Accuracy: 0.9172 (+/- 0.0037) [Normal XGBClassifier]\n",
            "Accuracy: 0.9170 (+/- 0.0034) [Bagging XGBClassifier]\n",
            "\n",
            "Accuracy: 0.9100 (+/- 0.0038) [Normal AdaBoostClassifier]\n",
            "Accuracy: 0.9106 (+/- 0.0037) [Bagging AdaBoostClassifier]\n",
            "\n"
          ],
          "name": "stdout"
        }
      ]
    },
    {
      "cell_type": "code",
      "metadata": {
        "id": "tXLl4M9dnlqG",
        "colab_type": "code",
        "colab": {
          "base_uri": "https://localhost:8080/",
          "height": 513
        },
        "outputId": "f7923a80-aa65-4dab-d594-14fbac944f7a"
      },
      "source": [
        "### Bagging plot\n",
        "\n",
        "import numpy as np\n",
        "import matplotlib.pyplot as plt\n",
        "from matplotlib.ticker import MaxNLocator\n",
        "\n",
        "fig, ax = plt.subplots(figsize=(15,8))\n",
        "n_groups = 6\n",
        "index = np.arange(n_groups)\n",
        "bar_width = 0.35\n",
        "opacity = .7\n",
        "error_config = {'ecolor': '0.3'}\n",
        "\n",
        "normal_clf = ax.bar(index, normal_accuracy, bar_width, alpha=opacity, yerr=normal_std, error_kw=error_config, label='Normal Classifier')\n",
        "bagging_clf = ax.bar(index + bar_width, bagging_accuracy, bar_width, alpha=opacity, yerr=bagging_std, error_kw=error_config, label='Bagging Classifier')\n",
        "ax.set_xlabel('Classifiers')\n",
        "ax.set_ylabel('Accuracy scores with variance')\n",
        "ax.set_title('Scores by group')\n",
        "ax.set_xticks(index + bar_width / 2)\n",
        "ax.set_xticklabels((labels))\n",
        "ax.legend()\n",
        "\n",
        "plt.show()"
      ],
      "execution_count": 92,
      "outputs": [
        {
          "output_type": "display_data",
          "data": {
            "image/png": "[encoded data removed]",
            "text/plain": [
              "<Figure size 1080x576 with 1 Axes>"
            ]
          },
          "metadata": {
            "tags": []
          }
        }
      ]
    },
    {
      "cell_type": "markdown",
      "metadata": {
        "id": "92X_b9B96_U6",
        "colab_type": "text"
      },
      "source": [
        "## Stacking"
      ]
    },
    {
      "cell_type": "code",
      "metadata": {
        "id": "QDvLgNc821SU",
        "colab_type": "code",
        "colab": {
          "base_uri": "https://localhost:8080/",
          "height": 118
        },
        "outputId": "bb1684dc-3f9e-4570-ac22-ad847625b8a2"
      },
      "source": [
        "from mlxtend.classifier import StackingClassifier\n",
        "from sklearn import model_selection\n",
        "\n",
        "stack_clf = StackingClassifier(classifiers=[rf_clf, lr_clf, knn_clf, gbc_clf, adab_clf], meta_classifier=xgb_clf)\n",
        "classifier_array = [rf_clf, lr_clf, knn_clf, gbc_clf, adab_clf, stack_clf]\n",
        "labels = [clf.__class__.__name__ for clf in classifier_array]\n",
        "acc_list = []\n",
        "var_list = []\n",
        "for clf, label in zip(classifier_array, labels):\n",
        "    cv_scores = model_selection.cross_val_score(clf, X_train, y_train, cv=10, scoring='accuracy')\n",
        "    print(\"Accuracy: %0.4f (+/- %0.4f) [%s]\" % (cv_scores.mean(), cv_scores.std(), label))\n",
        "    acc_list.append(np.round(cv_scores.mean(),4))\n",
        "    var_list.append(np.round(cv_scores.std(),4))"
      ],
      "execution_count": 99,
      "outputs": [
        {
          "output_type": "stream",
          "text": [
            "Accuracy: 0.9123 (+/- 0.0030) [RandomForestClassifier]\n",
            "Accuracy: 0.9103 (+/- 0.0023) [LogisticRegression]\n",
            "Accuracy: 0.9021 (+/- 0.0039) [KNeighborsClassifier]\n",
            "Accuracy: 0.9171 (+/- 0.0024) [GradientBoostingClassifier]\n",
            "Accuracy: 0.9100 (+/- 0.0038) [AdaBoostClassifier]\n",
            "Accuracy: 0.9125 (+/- 0.0030) [StackingClassifier]\n"
          ],
          "name": "stdout"
        }
      ]
    },
    {
      "cell_type": "markdown",
      "metadata": {
        "id": "XLQ8XREh8sde",
        "colab_type": "text"
      },
      "source": [
        "### Stacking using probability score\n",
        "Instead of using the actual class label of the base learners, here used the probability scores of each of the base models to train the meta-classifier (xgb). "
      ]
    },
    {
      "cell_type": "code",
      "metadata": {
        "id": "T88wCHw879xM",
        "colab_type": "code",
        "colab": {
          "base_uri": "https://localhost:8080/",
          "height": 118
        },
        "outputId": "0c8572fd-817f-4479-e5bd-0f90a19ebf43"
      },
      "source": [
        "stack_clf = StackingClassifier(classifiers=[rf_clf, lr_clf, knn_clf, gbc_clf, adab_clf], \n",
        "                               use_probas=True, average_probas=False, meta_classifier=xgb_clf)\n",
        "\n",
        "classifier_array = [rf_clf, lr_clf, knn_clf, gbc_clf, adab_clf, stack_clf]\n",
        "labels = [clf.__class__.__name__ for clf in classifier_array]\n",
        "for clf, label in zip(classifier_array, labels):\n",
        "    cv_scores = model_selection.cross_val_score(clf, X_train, y_train, cv=10, scoring='accuracy')\n",
        "    print(\"Accuracy: %0.4f (+/- %0.4f) [%s]\" % (cv_scores.mean(), cv_scores.std(), label))"
      ],
      "execution_count": 100,
      "outputs": [
        {
          "output_type": "stream",
          "text": [
            "Accuracy: 0.9116 (+/- 0.0040) [RandomForestClassifier]\n",
            "Accuracy: 0.9103 (+/- 0.0023) [LogisticRegression]\n",
            "Accuracy: 0.9021 (+/- 0.0039) [KNeighborsClassifier]\n",
            "Accuracy: 0.9171 (+/- 0.0024) [GradientBoostingClassifier]\n",
            "Accuracy: 0.9100 (+/- 0.0038) [AdaBoostClassifier]\n",
            "Accuracy: 0.9121 (+/- 0.0028) [StackingClassifier]\n"
          ],
          "name": "stdout"
        }
      ]
    },
    {
      "cell_type": "markdown",
      "metadata": {
        "id": "3uZWHt2aAGi3",
        "colab_type": "text"
      },
      "source": [
        "### Accuracy score could not be imporved inspite of heavy duty grid search and boosting through ensemble techniques. This is one limitation of gradient boosting machine learning algorithm."
      ]
    }
  ]
}